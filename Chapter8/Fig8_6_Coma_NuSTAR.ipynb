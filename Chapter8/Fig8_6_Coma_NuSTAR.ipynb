{
 "cells": [
  {
   "cell_type": "markdown",
   "metadata": {},
   "source": [
    "# NuSTAR X-ray spectrum of the Coma Cluster\n",
    "\n",
    "Figure 8.6 from Chapter 8 of *Interstellar and Intergalactic Medium* by Ryden & Pogge, 2021, \n",
    "Cambridge University Press.\n",
    "\n",
    "Background-subtracted NuSTAR spectrum of the central 12x12 arcmin region of the Coma Cluster, corresponding to\n",
    "~0.35x0.35-Mpc. The best-ftting one-temperature model (kT = 8.58 keV) is shown as the histogram.\n",
    "\n",
    "Replotting of the top panel of Figure 3 from \n",
    "[Gastaldello et al. 2015, ApJ, 800, 139](https://ui.adsabs.harvard.edu/abs/2015ApJ...800..139G),\n",
    "using original data provided by [Fabio Gastaldello](http://www.iasf-milano.inaf.it/~gasta/personal.html), \n",
    "INAF-IASF Milan."
   ]
  },
  {
   "cell_type": "code",
   "execution_count": null,
   "metadata": {},
   "outputs": [],
   "source": [
    "%matplotlib inline\n",
    "\n",
    "import math\n",
    "import numpy as np\n",
    "import pandas as pd\n",
    "import matplotlib\n",
    "import matplotlib.pyplot as plt\n",
    "from matplotlib.ticker import MultipleLocator, LogLocator, NullFormatter\n",
    "\n",
    "import warnings\n",
    "warnings.filterwarnings('ignore',category=UserWarning, append=True)\n",
    "warnings.filterwarnings('ignore',category=RuntimeWarning, append=True)"
   ]
  },
  {
   "cell_type": "markdown",
   "metadata": {},
   "source": [
    "## Standard Plot Format\n",
    "\n",
    "Setup the standard plotting format and make the plot. Fonts and resolution adopted follow CUP style.\n"
   ]
  },
  {
   "cell_type": "code",
   "execution_count": null,
   "metadata": {},
   "outputs": [],
   "source": [
    "figName = 'Fig8_6' \n",
    "\n",
    "# graphic aspect ratio = width/height\n",
    "\n",
    "aspect = 4.0/3.0 # 4:3\n",
    "\n",
    "# Text width in inches - don't change, this is defined by the print layout\n",
    "\n",
    "textWidth = 6.0 # inches\n",
    "\n",
    "# output format and resolution\n",
    "\n",
    "figFmt = 'png'\n",
    "dpi = 600\n",
    "\n",
    "# Graphic dimensions \n",
    "\n",
    "plotWidth = dpi*textWidth\n",
    "plotHeight = plotWidth/aspect\n",
    "axisFontSize = 10\n",
    "labelFontSize = 8\n",
    "lwidth = 0.5\n",
    "axisPad = 5\n",
    "wInches = textWidth \n",
    "hInches = wInches/aspect\n",
    "\n",
    "# Plot filename\n",
    "\n",
    "plotFile = f'{figName}.{figFmt}'\n",
    "\n",
    "# LaTeX is used throughout for markup of symbols, Times-Roman serif font\n",
    "\n",
    "plt.rc('text', usetex=True)\n",
    "plt.rc('font', **{'family':'serif','serif':['Times-Roman'],'weight':'bold','size':'16'})\n",
    "\n",
    "# Font and line weight defaults for axes\n",
    "\n",
    "matplotlib.rc('axes',linewidth=lwidth)\n",
    "matplotlib.rcParams.update({'font.size':axisFontSize})\n",
    "\n",
    "# axis and label padding\n",
    "\n",
    "plt.rcParams['xtick.major.pad'] = f'{axisPad}'\n",
    "plt.rcParams['ytick.major.pad'] = f'{axisPad}'\n",
    "plt.rcParams['axes.labelpad'] = f'{axisPad}'"
   ]
  },
  {
   "cell_type": "markdown",
   "metadata": {},
   "source": [
    "## Spectral Data\n",
    "\n",
    "Data are in Coma_NuSTAR_spectrum.txt, 5-column ASCII format:\n",
    " * Energy - photon energy in keV\n",
    " * Err_Energy - error on the photon energy in keV\n",
    " * Counts - observed photon count rate/energy in counts/s/keV\n",
    " * Err_Counts - error on the observed counts\n",
    " * Model_COUNTS - counts for the best-fitting spectrum model.\n",
    " \n",
    "The model and its parameters are described in Gastaldello et al. 2015.  We are omitting the bottom plot in\n",
    "their Figure 3 that showed the fit residuals the ratio between data and model.  Please see their paper for\n",
    "full details."
   ]
  },
  {
   "cell_type": "code",
   "execution_count": null,
   "metadata": {},
   "outputs": [],
   "source": [
    "dataFile = 'Coma_NuSTAR_spectrum.txt'\n",
    "\n",
    "# data file has a text header, colhead1  colhead2 ... colheadN\n",
    "\n",
    "data = pd.read_csv(dataFile,sep=r'\\s+',comment='#')\n",
    "\n",
    "energy = np.array(data['Energy'])\n",
    "errE = np.array(data['Err_Energy'])\n",
    "counts = np.array(data['Counts'])\n",
    "errC = np.array(data['Err_Counts'])\n",
    "model = np.array(data['Model_COUNTS'])\n",
    "\n",
    "# Plotting Limits\n",
    "\n",
    "xMin = 3.0 # keV\n",
    "xMax = 29.5\n",
    "\n",
    "yMin = 2.e-4 # counts/s/keV\n",
    "yMax = 0.5 # "
   ]
  },
  {
   "cell_type": "markdown",
   "metadata": {},
   "source": [
    "## Make the plot\n"
   ]
  },
  {
   "cell_type": "code",
   "execution_count": null,
   "metadata": {},
   "outputs": [],
   "source": [
    "fig,ax = plt.subplots()\n",
    "\n",
    "fig.set_dpi(dpi)\n",
    "fig.set_size_inches(wInches,hInches,forward=True)\n",
    "\n",
    "ax.tick_params('both',length=6,width=lwidth,which='major',direction='in',top='on',right='on',zorder=10)\n",
    "ax.tick_params('both',length=3,width=lwidth,which='minor',direction='in',top='on',right='on',zorder=10)\n",
    "\n",
    "# Limits\n",
    "\n",
    "plt.xlim(xMin,xMax)\n",
    "ax.set_xscale('log')\n",
    "ax.set_xticks([3,4,5,6,8,10,15,20,25])\n",
    "ax.set_xticklabels(['3','4','5','6','8','10','15','20','25'])\n",
    "plt.xlabel(r'Energy [keV]',fontsize=axisFontSize)\n",
    "\n",
    "plt.ylim(yMin,yMax)\n",
    "ax.set_yscale('log')\n",
    "plt.ylabel(r'counts s$^{-1}$ keV$^{-1}$',fontsize=axisFontSize)\n",
    "\n",
    "\n",
    "plt.errorbar(energy,counts,xerr=errE,yerr=errC,color='black',fmt='.',mec=None,ms=1,zorder=10,lw=0.5)\n",
    "\n",
    "# model\n",
    "\n",
    "plt.plot(energy,model,'-',ds='steps-mid',color='black',lw=0.5,zorder=9)\n",
    "\n",
    "plt.plot()\n",
    "plt.savefig(plotFile,bbox_inches='tight',facecolor='white')"
   ]
  }
 ],
 "metadata": {
  "kernelspec": {
   "display_name": "Python 3",
   "language": "python",
   "name": "python3"
  },
  "language_info": {
   "codemirror_mode": {
    "name": "ipython",
    "version": 3
   },
   "file_extension": ".py",
   "mimetype": "text/x-python",
   "name": "python",
   "nbconvert_exporter": "python",
   "pygments_lexer": "ipython3",
   "version": "3.8.5"
  }
 },
 "nbformat": 4,
 "nbformat_minor": 2
}
