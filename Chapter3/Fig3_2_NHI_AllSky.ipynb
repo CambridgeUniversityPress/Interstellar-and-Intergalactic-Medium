{
 "cells": [
  {
   "cell_type": "markdown",
   "metadata": {},
   "source": [
    "# All-Sky N$_{HI}$ Map\n",
    "\n",
    "Figure 3.2 from Chapter 3 of *Interstellar and Intergalactic Medium* by Ryden & Pogge, 2021, \n",
    "Cambridge University Press.\n",
    "\n",
    "The HI 4-PI Survey (HI4PI) is a 21-cm all-sky survey of neutral atomic hydrogen. It is constructed from the \n",
    "Effelsberg-Bonn HI Survey (EBHIS), made with the 100-m radio telescope at Effelsberg/Germany, and the Galactic \n",
    "All-Sky Survey (GASS), observed with the Parkes 64-m dish in Australia. HI4PI comprises HI line emission from the \n",
    "Milky Way. This dataset is the atomic neutral hydrogen (HI) column density map derived from HI4PI (|Vlsr| < 600 \n",
    "km/s).\n",
    "\n",
    "We are using the NASA Goddard Space Flight Center's Legacy Archive for Microwave Background Data Analysis\n",
    "(LAMBDA)'s [HEALPix format map](https://lambda.gsfc.nasa.gov/product/foreground/fg_hi4pi_info.cfm).\n",
    "\n",
    "This notebook requires that your computer has the [healpy package](https://healpy.readthedocs.io/en/latest/)\n",
    "installed."
   ]
  },
  {
   "cell_type": "code",
   "execution_count": null,
   "metadata": {},
   "outputs": [],
   "source": [
    "%matplotlib inline\n",
    "\n",
    "import matplotlib\n",
    "import matplotlib.pyplot as plt\n",
    "from matplotlib.ticker import MultipleLocator, LogLocator, NullFormatter\n",
    "\n",
    "import numpy as np\n",
    "import healpy as hp\n",
    "\n",
    "import warnings\n",
    "warnings.filterwarnings('ignore',category=UserWarning, append=True)"
   ]
  },
  {
   "cell_type": "markdown",
   "metadata": {},
   "source": [
    "## Standard Plot Format\n",
    "\n",
    "Setup the standard plotting format and make the plot. Fonts and resolution adopted follow CUP style."
   ]
  },
  {
   "cell_type": "code",
   "execution_count": null,
   "metadata": {},
   "outputs": [],
   "source": [
    "figName = 'Fig3_2' \n",
    "\n",
    "# graphic aspect ratio = width/height\n",
    "\n",
    "aspect = 4.0/3.0 # 4:3\n",
    "\n",
    "# Text width in inches - don't change, this is defined by the print layout\n",
    "\n",
    "textWidth = 6.0 # inches\n",
    "\n",
    "# output format and resolution\n",
    "\n",
    "figFmt = 'jpg'\n",
    "dpi = 600\n",
    "\n",
    "# Graphic dimensions \n",
    "\n",
    "plotWidth = dpi*textWidth\n",
    "plotHeight = plotWidth/aspect\n",
    "axisFontSize = 10\n",
    "labelFontSize = 6\n",
    "lwidth = 0.5\n",
    "axisPad = 5\n",
    "wInches = textWidth \n",
    "hInches = wInches/aspect\n",
    "\n",
    "# Plot filename\n",
    "\n",
    "plotFile = f'{figName}.{figFmt}'\n",
    "\n",
    "# LaTeX is used throughout for markup of symbols, Times-Roman serif font\n",
    "\n",
    "plt.rc('text', usetex=True)\n",
    "plt.rc('font', **{'family':'serif','serif':['Times-Roman'],'weight':'bold','size':'16'})\n",
    "\n",
    "# Font and line weight defaults for axes\n",
    "\n",
    "matplotlib.rc('axes',linewidth=lwidth)\n",
    "matplotlib.rcParams.update({'font.size':axisFontSize})\n",
    "\n",
    "# axis and label padding\n",
    "\n",
    "plt.rcParams['xtick.major.pad'] = f'{axisPad}'\n",
    "plt.rcParams['ytick.major.pad'] = f'{axisPad}'\n",
    "plt.rcParams['axes.labelpad'] = f'{axisPad}'"
   ]
  },
  {
   "cell_type": "markdown",
   "metadata": {},
   "source": [
    "## HI4PI All Sky 21-cm N$_{HI}$ map\n",
    "\n",
    "$N_{HI}$ is in field 4 of the HEALPix map, in units of $cm^{-2}$.  We plot a logarithmic scale from \n",
    "$5\\times10^{19}$ to $5\\times10^{22}\\,cm^{-2}$.\n",
    "\n",
    "FITS file NHI_HPX.fits, uncompressed, needs to be in the same directory as the notebook.\n",
    "\n",
    "We add labels for the locations of the Large and Small Magellanic Clouds (LMC and SMC), and the\n",
    "Lockman Hole (LH)."
   ]
  },
  {
   "cell_type": "code",
   "execution_count": null,
   "metadata": {},
   "outputs": [],
   "source": [
    "mapFile = 'NHI_HPX.fits'\n",
    "\n",
    "# read the HEALPix format map of Halpha\n",
    "\n",
    "nhiMap = hp.read_map(mapFile,field=4)\n",
    "\n",
    "# Make the plot\n",
    "\n",
    "fig,ax = plt.subplots()\n",
    "fig.set_dpi(dpi)\n",
    "fig.set_size_inches(wInches,hInches,forward=True)\n",
    "plt.axes(ax)\n",
    "hp.mollview(nhiMap,min=5e19,max=5e22,cmap='Greys',norm='log',cbar=False,xsize=2048,\n",
    "                  title=None,hold=True) #,badcolor='white')\n",
    "\n",
    "hp.graticule(360,360,lw=0) # tricks into drawing a border but no meridians or parallels\n",
    "\n",
    "# Annotate with interesting objects (LMC, SMC, Lockman Hole)\n",
    "\n",
    "hp.projtext(280.46,-30.,'LMC',lonlat=True,ha='center',va='bottom',fontsize=10)\n",
    "hp.projtext(302.81,-48.,'SMC',lonlat=True,ha='center',va='top',fontsize=10)\n",
    "hp.projtext(150,52,'LH',lonlat=True,ha='center',va='center',fontsize=10)\n",
    "\n",
    "plt.plot()\n",
    "plt.savefig(plotFile,bbox_inches='tight')"
   ]
  }
 ],
 "metadata": {
  "kernelspec": {
   "display_name": "Python 3",
   "language": "python",
   "name": "python3"
  },
  "language_info": {
   "codemirror_mode": {
    "name": "ipython",
    "version": 3
   },
   "file_extension": ".py",
   "mimetype": "text/x-python",
   "name": "python",
   "nbconvert_exporter": "python",
   "pygments_lexer": "ipython3",
   "version": "3.8.5"
  }
 },
 "nbformat": 4,
 "nbformat_minor": 4
}
