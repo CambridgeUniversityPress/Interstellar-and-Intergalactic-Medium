{
 "cells": [
  {
   "cell_type": "markdown",
   "metadata": {},
   "source": [
    "# SED near the Sun's location in the Milky Way\n",
    "\n",
    "Figure 3.4 from Chapter 3 of *Interstellar and Intergalactic Medium* by Ryden & Pogge, 2021, \n",
    "Cambridge University Press.\n",
    "\n",
    "Plot of the spectral energy distribution (SED) of electromagnetic radiation near\n",
    "the Sun's location in the Milky Way Galaxy. The main peaks are provided\n",
    "by the cosmic microwave background (CMB), infrared light from dust (IR),\n",
    "and starlight (SL).\n",
    "\n",
    "Data are from [Porter et al. 2017](https://ui.adsabs.harvard.edu/abs/2017ApJ...846...67P/abstract), using the\n",
    "model file for x,y,z=(8.5,0,0)kpc, using the [Robataille et al. 2012](https://ui.adsabs.harvard.edu/abs/2012A%26A...545A..39R/abstract) \n",
    "(R12) 3D radiative transfer dust and stellar model."
   ]
  },
  {
   "cell_type": "code",
   "execution_count": null,
   "metadata": {},
   "outputs": [],
   "source": [
    "%matplotlib inline\n",
    "\n",
    "import math\n",
    "import numpy as np\n",
    "import pandas as pd\n",
    "import matplotlib\n",
    "import matplotlib.pyplot as plt\n",
    "from matplotlib.ticker import MultipleLocator, LogLocator, NullFormatter, FormatStrFormatter\n",
    "\n",
    "from astropy.io import fits\n",
    "\n",
    "import warnings\n",
    "warnings.filterwarnings('ignore',category=UserWarning, append=True)"
   ]
  },
  {
   "cell_type": "markdown",
   "metadata": {},
   "source": [
    "## Standard Plot Format\n",
    "\n",
    "Setup the standard plotting format and make the plot. Fonts and resolution adopted follow CUP style."
   ]
  },
  {
   "cell_type": "code",
   "execution_count": null,
   "metadata": {},
   "outputs": [],
   "source": [
    "figName = 'Fig3_4' \n",
    "\n",
    "# graphic aspect ratio = width/height\n",
    "\n",
    "aspect = 4.0/3.0 # 4:3\n",
    "\n",
    "# Text width in inches - don't change, this is defined by the print layout\n",
    "\n",
    "textWidth = 6.0 # inches\n",
    "\n",
    "# output format and resolution\n",
    "\n",
    "figFmt = 'png'\n",
    "dpi = 600\n",
    "\n",
    "# Graphic dimensions \n",
    "\n",
    "plotWidth = dpi*textWidth\n",
    "plotHeight = plotWidth/aspect\n",
    "axisFontSize = 10\n",
    "labelFontSize = 6\n",
    "lwidth = 0.5\n",
    "axisPad = 5\n",
    "wInches = textWidth \n",
    "hInches = wInches/aspect\n",
    "\n",
    "# Plot filename\n",
    "\n",
    "plotFile = f'{figName}.{figFmt}'\n",
    "\n",
    "# LaTeX is used throughout for markup of symbols, Times-Roman serif font\n",
    "\n",
    "plt.rc('text', usetex=True)\n",
    "plt.rc('font', **{'family':'serif','serif':['Times-Roman'],'weight':'bold','size':'16'})\n",
    "\n",
    "# Font and line weight defaults for axes\n",
    "\n",
    "matplotlib.rc('axes',linewidth=lwidth)\n",
    "matplotlib.rcParams.update({'font.size':axisFontSize})\n",
    "\n",
    "# axis and label padding\n",
    "\n",
    "plt.rcParams['xtick.major.pad'] = f'{axisPad}'\n",
    "plt.rcParams['ytick.major.pad'] = f'{axisPad}'\n",
    "plt.rcParams['axes.labelpad'] = f'{axisPad}'"
   ]
  },
  {
   "cell_type": "markdown",
   "metadata": {},
   "source": [
    "## R12 solar location model\n",
    "\n",
    "The SED is from the Porter et al. data set, using the robitaille_DL07_PAHISMMix_8.5_0_0_Flux.fits data file. \n",
    "This file must be in the same folder as this notebook and uncompressed.\n",
    "\n",
    "Convert the wavelength in microns to energy in eV and use the flux density in eV cm$^{-3}$ as-is.\n",
    "\n",
    "Also compute the Cosmic Microwave Background (CMB) component and overplot it onto the model SED."
   ]
  },
  {
   "cell_type": "code",
   "execution_count": null,
   "metadata": {},
   "outputs": [],
   "source": [
    "fitsFile = 'robitaille_DL07_PAHISMMix_8.5_0_0_Flux.fits'\n",
    "\n",
    "hdu1=fits.open(fitsFile)\n",
    "data = hdu1[1].data\n",
    "\n",
    "# Constants\n",
    "\n",
    "c = 2.99792458e8    # speed of light in m/sec (CODATA 2018)\n",
    "h = 4.135667696e-15 # eV Hz-1\n",
    "\n",
    "lam = 1.0e-6*data.field('Wavelength') # wavelength converted from microns to meters\n",
    "\n",
    "hnuISM = h*c/lam  # energy in eV\n",
    "fluxISM = data.field('Direct')+data.field('Transient')+data.field('Thermal')\n",
    "\n",
    "# limits of the ISM data\n",
    "\n",
    "hnuMin = np.min(hnuISM)\n",
    "print(f'hnu min = {hnuMin:e}')\n",
    "fluxMin = np.min(fluxISM)\n",
    "print(f'flux_min = {fluxMin:e}')\n",
    "print(f'log10(flux_min) = {math.log10(hnuMin):f}')\n",
    "\n",
    "xMin = 1.0e-5 # eV\n",
    "xMax = 14.0\n",
    "\n",
    "yMin = 1.0e-4 # eV cm^-3\n",
    "yMax = 5.0"
   ]
  },
  {
   "cell_type": "markdown",
   "metadata": {},
   "source": [
    "## Cosmic Microwave Background\n",
    "\n",
    "Compute the flux density as a function of h$\\nu$ for the CMB, assuming a temperature of 2.7255K.\n",
    "\n",
    "Add this into the ISM SED, being mindfull of the different h$\\nu$ grids and numerical extremes.  It's a bit\n",
    "of a hack, but it works OK."
   ]
  },
  {
   "cell_type": "code",
   "execution_count": null,
   "metadata": {},
   "outputs": [],
   "source": [
    "k_eV = 8.617333262e-5 # Boltzmann's k in eV/K\n",
    "\n",
    "T = 2.7255 # K\n",
    "\n",
    "kT = k_eV*T\n",
    "\n",
    "hnuCMB0 = 10.0**(np.linspace(-5.0,math.log10(hnuMin),101))\n",
    "fluxCMB0 = 1.318684e13*(hnuCMB0**4)/(np.exp(hnuCMB0/kT)-1)\n",
    "\n",
    "hnuCMBmax = 10.0**(-1.6)\n",
    "fluxTot = []\n",
    "for i,hnu in enumerate(hnuISM):\n",
    "    if hnu < hnuCMBmax:\n",
    "        fluxTot.append(fluxISM[i] + 1.318684e13*(hnu**4)/(np.exp(hnu/kT)-1))\n",
    "    else:\n",
    "        fluxTot.append(fluxISM[i])\n"
   ]
  },
  {
   "cell_type": "markdown",
   "metadata": {},
   "source": [
    "### Make the Plot\n",
    "\n",
    "Plot energy density vs. photon energy in eV"
   ]
  },
  {
   "cell_type": "code",
   "execution_count": null,
   "metadata": {},
   "outputs": [],
   "source": [
    "fig,ax = plt.subplots()\n",
    "\n",
    "fig.set_dpi(dpi)\n",
    "fig.set_size_inches(wInches,hInches,forward=True)\n",
    "\n",
    "ax.tick_params('both',length=6,width=lwidth,which='major',direction='in',top='on',right='on')\n",
    "ax.tick_params('both',length=3,width=lwidth,which='minor',direction='in',top='on',right='on')\n",
    "\n",
    "plt.xlim(xMin,xMax)\n",
    "ax.set_xscale('log')\n",
    "plt.xlabel(r'h$\\nu$ [eV]')\n",
    "\n",
    "plt.ylim(yMin,yMax)\n",
    "ax.set_yscale('log')\n",
    "plt.ylabel(r'Energy density [eV cm$^{-3}$]')\n",
    "\n",
    "# plot the SEDs\n",
    "\n",
    "plt.plot(hnuCMB0,fluxCMB0,'-',color='black',lw=1.0,zorder=10)\n",
    "plt.plot(hnuISM,fluxTot,'-',color='black',lw=1,zorder=8)\n",
    "\n",
    "# Label the main parts of the CoG\n",
    "\n",
    "plt.text(1.0e-3,0.2,'CMB',fontsize=axisFontSize,ha='center',va='bottom')\n",
    "plt.text(4.0e-2,0.1,'IR',fontsize=axisFontSize,ha='center',va='bottom')\n",
    "plt.text(2.0,0.6,'Starlight',fontsize=axisFontSize,ha='center',va='bottom')\n",
    "\n",
    "# plot and file\n",
    "\n",
    "plt.plot()\n",
    "plt.savefig(plotFile,bbox_inches='tight',facecolor='white')"
   ]
  }
 ],
 "metadata": {
  "kernelspec": {
   "display_name": "Python 3",
   "language": "python",
   "name": "python3"
  },
  "language_info": {
   "codemirror_mode": {
    "name": "ipython",
    "version": 3
   },
   "file_extension": ".py",
   "mimetype": "text/x-python",
   "name": "python",
   "nbconvert_exporter": "python",
   "pygments_lexer": "ipython3",
   "version": "3.8.5"
  }
 },
 "nbformat": 4,
 "nbformat_minor": 2
}
