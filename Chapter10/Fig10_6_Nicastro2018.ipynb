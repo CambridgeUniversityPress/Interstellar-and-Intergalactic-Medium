{
 "cells": [
  {
   "cell_type": "markdown",
   "metadata": {},
   "source": [
    "# Warm-Hot IGM X-ray Spectrum\n",
    "\n",
    "Figure 10.6 from Chapter 10 of *Interstellar and Intergalactic Medium* by Ryden & Pogge, 2021, \n",
    "Cambridge University Press.\n",
    "\n",
    "Plot of detection of OVII Lyman-$\\alpha$ x-ray absorption lines from the Warm-Hot intergalactic medium (WHIGM)\n",
    "along the line-of-sight to the x-ray bright quasar 1ES1553+113 at resdhifts z=0.355 and z=0.434.  Data were\n",
    "obtained using the *XMM-Newton X-ray Telescope* and the Reflection Grating Spectrometer (RGS) instrument.\n",
    "\n",
    "Data from [Nicastro et al. 2018, Nature, 558, 406](https://ui.adsabs.harvard.edu/abs/2018Natur.558..406N),\n",
    "replotted using reduced data provided by Smita Mathur and Sanskriti Das, The Ohio State University."
   ]
  },
  {
   "cell_type": "code",
   "execution_count": null,
   "metadata": {},
   "outputs": [],
   "source": [
    "%matplotlib inline\n",
    "\n",
    "import math\n",
    "import numpy as np\n",
    "import pandas as pd\n",
    "import matplotlib\n",
    "import matplotlib.pyplot as plt\n",
    "from matplotlib.ticker import MultipleLocator, LogLocator, NullFormatter\n",
    "\n",
    "import warnings\n",
    "warnings.filterwarnings('ignore',category=UserWarning, append=True)\n",
    "warnings.filterwarnings('ignore',category=RuntimeWarning, append=True)"
   ]
  },
  {
   "cell_type": "markdown",
   "metadata": {},
   "source": [
    "## Standard Plot Format\n",
    "\n",
    "Setup the standard plotting format and make the plot. Fonts and resolution adopted follow CUP style."
   ]
  },
  {
   "cell_type": "code",
   "execution_count": null,
   "metadata": {},
   "outputs": [],
   "source": [
    "figName = 'Fig10_6' \n",
    "\n",
    "# graphic aspect ratio = width/height\n",
    "\n",
    "aspect = 4.0/3.0 # 4:3\n",
    "\n",
    "# Text width in inches - don't change, this is defined by the print layout\n",
    "\n",
    "textWidth = 6.0 # inches\n",
    "\n",
    "# output format and resolution\n",
    "\n",
    "figFmt = 'png'\n",
    "dpi = 600\n",
    "\n",
    "# Graphic dimensions \n",
    "\n",
    "plotWidth = dpi*textWidth\n",
    "plotHeight = plotWidth/aspect\n",
    "axisFontSize = 10\n",
    "labelFontSize = 8\n",
    "lwidth = 0.5\n",
    "axisPad = 5\n",
    "wInches = textWidth \n",
    "hInches = wInches/aspect\n",
    "\n",
    "# Plot filename\n",
    "\n",
    "plotFile = f'{figName}.{figFmt}'\n",
    "\n",
    "# LaTeX is used throughout for markup of symbols, Times-Roman serif font\n",
    "\n",
    "plt.rc('text', usetex=True)\n",
    "plt.rc('font', **{'family':'serif','serif':['Times-Roman'],'weight':'bold','size':'16'})\n",
    "\n",
    "# Font and line weight defaults for axes\n",
    "\n",
    "matplotlib.rc('axes',linewidth=lwidth)\n",
    "matplotlib.rcParams.update({'font.size':axisFontSize})\n",
    "\n",
    "# axis and label padding\n",
    "\n",
    "plt.rcParams['xtick.major.pad'] = f'{axisPad}'\n",
    "plt.rcParams['ytick.major.pad'] = f'{axisPad}'\n",
    "plt.rcParams['axes.labelpad'] = f'{axisPad}'"
   ]
  },
  {
   "cell_type": "markdown",
   "metadata": {},
   "source": [
    "## Convenience function \n",
    "\n",
    "Define a function to compute a Gaussian emission-line profile given the central wavelength,\n",
    "full-width at half maximum (FWHM), peak intensity, for an array of wavelengths, lam.\n",
    "\n",
    "Not pretty, not meant to be."
   ]
  },
  {
   "cell_type": "code",
   "execution_count": null,
   "metadata": {},
   "outputs": [],
   "source": [
    "def gauss(lam,cen,fwhm,pk):\n",
    "    sig = fwhm/(2.0*math.sqrt(2.0*math.log(2)))\n",
    "    arg = (lam-cen)*(lam-cen)/(2*sig*sig)\n",
    "    return pk*np.exp(-arg)\n"
   ]
  },
  {
   "cell_type": "markdown",
   "metadata": {},
   "source": [
    "## Read in the X-ray Spectra Data\n",
    "\n",
    "Data are in a 6-column ASCII format:\n",
    " * wavelength - wavelength in Angstroms, range 8-30\n",
    " * err_wavelength - wavelength error in Angstroms\n",
    " * flux - flux in Jansky (10$^{-26}$ erg s$^{-1}$ cm$^{-2}$ Hz$^{-1}$)\n",
    " * err_flux - flux error in Jansky\n",
    " * model - best fit model\n",
    " * continuum - continuum model component\n",
    " \n",
    "We will plot the fluxes normalized relative to the best fit continuum, as is conventional for absorption-line\n",
    "studies at all wavelengths.\n",
    "\n",
    "The model for the lines will be represented by Gaussian functions of the instrumental width of the RGS\n",
    "instrument (0.08-Angstroms), and estimates of the central wavelength and absorbed flux.  The model absorption\n",
    "lines are meant to be illustrative, and do not represent a statistically-rigorous fit to these data."
   ]
  },
  {
   "cell_type": "code",
   "execution_count": null,
   "metadata": {
    "scrolled": false
   },
   "outputs": [],
   "source": [
    "# RGS1 data\n",
    "\n",
    "dataFile = 'Nicastro2018_RGS1.txt'\n",
    "\n",
    "data = pd.read_csv(dataFile,sep=r'\\s+',comment='#')\n",
    "wave1 = np.array(data['wavelength'])\n",
    "errWave1 = np.array(data['err_wavelength'])\n",
    "flux1 = np.array(data['flux'])\n",
    "errFlux1 = np.array(data['err_flux'])\n",
    "fluxMod1 = np.array(data['model'])\n",
    "fluxCont1 = np.array(data['continuum'])\n",
    "\n",
    "# normalized flux and errors\n",
    "\n",
    "fluxNorm1 = flux1/fluxCont1\n",
    "ferrNorm1 = errFlux1/fluxCont1\n",
    "\n",
    "# RGS2 data\n",
    "\n",
    "dataFile = 'Nicastro2018_RGS2.txt'\n",
    "\n",
    "data = pd.read_csv(dataFile,sep=r'\\s+',comment='#')\n",
    "wave2 = np.array(data['wavelength'])\n",
    "errWave2 = np.array(data['err_wavelength'])\n",
    "flux2 = np.array(data['flux'])\n",
    "errFlux2 = np.array(data['err_flux'])\n",
    "fluxMod2 = np.array(data['model'])\n",
    "fluxCont2 = np.array(data['continuum'])\n",
    "\n",
    "# normalized flux and errors\n",
    "\n",
    "fluxNorm2 = flux2/fluxCont2\n",
    "ferrNorm2 = errFlux2/fluxCont2\n",
    "\n",
    "# Plotting Limits\n",
    "\n",
    "xMin = 28.5  # Angstroms\n",
    "xMax = 32.0\n",
    "\n",
    "yMin = 0.6 # normalized flux\n",
    "yMax = 1.2 # \n",
    "\n",
    "# model absorption lines, OVII Ly-alpha, z=0.3551 and 0.4339\n",
    "\n",
    "fwhm = 0.08 # Angstroms, instrumental width\n",
    "\n",
    "cen1 = 29.275 # Angstroms\n",
    "pk1 = 1.0-0.85\n",
    "\n",
    "cen2 = 30.976 # Angstroms\n",
    "pk2 = 1.0-0.70\n",
    "\n",
    "waveModel = np.linspace(xMin,xMax,501)\n",
    "fluxModel = 1.0 - gauss(waveModel,cen1,fwhm,pk1) - gauss(waveModel,cen2,fwhm,pk2)"
   ]
  },
  {
   "cell_type": "markdown",
   "metadata": {},
   "source": [
    "## Make the plot\n",
    "\n",
    "RGS channel 1 in black, RGS channel 2 in gray.  Error bars on the wavelengths and fluxes, model absorption\n",
    "lines as Gaussian with the parameters reported in the Nicastro et al. paper."
   ]
  },
  {
   "cell_type": "code",
   "execution_count": null,
   "metadata": {
    "scrolled": false
   },
   "outputs": [],
   "source": [
    "fig,ax = plt.subplots()\n",
    "\n",
    "fig.set_dpi(dpi)\n",
    "fig.set_size_inches(wInches,hInches,forward=True)\n",
    "\n",
    "ax.tick_params('both',length=6,width=lwidth,which='major',direction='in',top='on',right='on')\n",
    "ax.tick_params('both',length=3,width=lwidth,which='minor',direction='in',top='on',right='on')\n",
    "\n",
    "# Limits\n",
    "\n",
    "plt.xlim(xMin,xMax)\n",
    "ax.xaxis.set_major_locator(MultipleLocator(1))\n",
    "ax.xaxis.set_minor_locator(MultipleLocator(0.2))\n",
    "plt.xlabel(r'Wavelength [\\AA]',fontsize=axisFontSize)\n",
    "\n",
    "plt.ylim(yMin,yMax)\n",
    "plt.ylabel(r'Data/Continuum',fontsize=axisFontSize)\n",
    "\n",
    "plt.errorbar(wave1,fluxNorm1,xerr=errWave1,yerr=ferrNorm1,color='black',fmt='o',ms=1,zorder=10,lw=0.5)\n",
    "plt.errorbar(wave2,fluxNorm2,xerr=errWave2,yerr=ferrNorm2,color='#666666',fmt='o',ms=1,zorder=10,lw=0.5)\n",
    "\n",
    "# Model showing the absorption line\n",
    "\n",
    "plt.plot(waveModel,fluxModel,'-',lw=1.0,color='black')\n",
    "plt.text(cen1,1-pk1-0.025,r'O{\\sc vii}',color='black',ha='center',va='top',fontsize=axisFontSize)\n",
    "plt.text(cen1,1-pk1-0.055,r'(z=0.355)',color='black',ha='center',va='top',fontsize=labelFontSize)\n",
    "\n",
    "plt.text(cen2,1-pk2-0.025,r'O{\\sc vii}',color='black',ha='center',va='top',fontsize=axisFontSize)\n",
    "plt.text(cen2,1-pk2-0.055,r'(z=0.434)',color='black',ha='center',va='top',fontsize=labelFontSize)\n",
    "\n",
    "plt.plot()\n",
    "plt.savefig(plotFile,bbox_inches='tight',facecolor='white')"
   ]
  }
 ],
 "metadata": {
  "kernelspec": {
   "display_name": "Python 3",
   "language": "python",
   "name": "python3"
  },
  "language_info": {
   "codemirror_mode": {
    "name": "ipython",
    "version": 3
   },
   "file_extension": ".py",
   "mimetype": "text/x-python",
   "name": "python",
   "nbconvert_exporter": "python",
   "pygments_lexer": "ipython3",
   "version": "3.8.5"
  }
 },
 "nbformat": 4,
 "nbformat_minor": 2
}
