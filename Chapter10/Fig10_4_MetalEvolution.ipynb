{
 "cells": [
  {
   "cell_type": "markdown",
   "metadata": {},
   "source": [
    "# Baryonic Mean Metallicity Evolution\n",
    "\n",
    "Figure 10.4 from Chapter 10 of *Interstellar and Intergalactic Medium* by Ryden & Pogge, 2021, \n",
    "Cambridge University Press.\n",
    "\n",
    "Plot of the redshift evolution of the mean metallicity Z of baryonic matter for three components: \n",
    "diffuse intergalactic medium, warm-hot intergalactic medium, and star-forming gas\n",
    "with $n > 0.13{\\rm cm}^{-3}$, $T < 10^7$K, and SFR > 0).\n",
    "\n",
    "Data from [Martizzi et al. 2019, MNRAS, 486, 3766](https://ui.adsabs.harvard.edu/abs/2019MNRAS.486.3766M),\n",
    "with additional data kindly provided to the authors by Davide Martizzi.  We are plotting a variation on Figure 9\n",
    "in that paper, but adding all components together and using additional data out to redshift 8."
   ]
  },
  {
   "cell_type": "code",
   "execution_count": null,
   "metadata": {},
   "outputs": [],
   "source": [
    "%matplotlib inline\n",
    "\n",
    "import math\n",
    "import numpy as np\n",
    "import pandas as pd\n",
    "import matplotlib\n",
    "import matplotlib.pyplot as plt\n",
    "from matplotlib.ticker import MultipleLocator, LogLocator, NullFormatter\n",
    "\n",
    "# Filter nuisance warnings\n",
    "\n",
    "import warnings\n",
    "warnings.filterwarnings('ignore',category=UserWarning, append=True)\n",
    "warnings.filterwarnings('ignore',category=RuntimeWarning, append=True)"
   ]
  },
  {
   "cell_type": "markdown",
   "metadata": {},
   "source": [
    "## Standard Plot Format\n",
    "\n",
    "Setup the standard plotting format and make the plot. Fonts and resolution adopted follow CUP style."
   ]
  },
  {
   "cell_type": "code",
   "execution_count": null,
   "metadata": {},
   "outputs": [],
   "source": [
    "figName = 'Fig10_4' \n",
    "\n",
    "# graphic aspect ratio = width/height\n",
    "\n",
    "aspect = 4.0/3.0 # 4:3\n",
    "\n",
    "# Text width in inches - don't change, this is defined by the print layout\n",
    "\n",
    "textWidth = 6.0 # inches\n",
    "\n",
    "# output format and resolution\n",
    "\n",
    "figFmt = 'png'\n",
    "dpi = 600\n",
    "\n",
    "# Graphic dimensions \n",
    "\n",
    "plotWidth = dpi*textWidth\n",
    "plotHeight = plotWidth/aspect\n",
    "axisFontSize = 10\n",
    "labelFontSize = 8\n",
    "lwidth = 0.5\n",
    "axisPad = 5\n",
    "wInches = textWidth \n",
    "hInches = wInches/aspect\n",
    "\n",
    "# Plot filename\n",
    "\n",
    "plotFile = f'{figName}.{figFmt}'\n",
    "\n",
    "# LaTeX is used throughout for markup of symbols, Times-Roman serif font\n",
    "\n",
    "plt.rc('text', usetex=True)\n",
    "plt.rc('font', **{'family':'serif','serif':['Times-Roman'],'weight':'bold','size':'16'})\n",
    "\n",
    "# Font and line weight defaults for axes\n",
    "\n",
    "matplotlib.rc('axes',linewidth=lwidth)\n",
    "matplotlib.rcParams.update({'font.size':axisFontSize})\n",
    "\n",
    "# axis and label padding\n",
    "\n",
    "plt.rcParams['xtick.major.pad'] = f'{axisPad}'\n",
    "plt.rcParams['ytick.major.pad'] = f'{axisPad}'\n",
    "plt.rcParams['axes.labelpad'] = f'{axisPad}'"
   ]
  },
  {
   "cell_type": "markdown",
   "metadata": {},
   "source": [
    "## Mean Metallicity data\n",
    "\n",
    "Data from Martizzi et al. 2019, kindly provided by D. Martizzi.\n",
    "\n",
    "The data file, Martizzi_Metallicity.txt, is a multicolumn ASCII table organized as follows:\n",
    " * z - redshift\n",
    " * WHIM - warm/hot IGM metallicity (solar units)\n",
    " * DIM - diffuse IGM metallicity\n",
    " * SFGas - star-forming gas mass fraction ($n > 0.13{\\rm cm}^{-3}$, $T < 10^7$K, and SFR > 0)"
   ]
  },
  {
   "cell_type": "code",
   "execution_count": null,
   "metadata": {},
   "outputs": [],
   "source": [
    "dataFile = 'Martizzi_Metallicity.txt'\n",
    "\n",
    "data = pd.read_csv(dataFile,sep=r'\\s+',comment='#')\n",
    "z = np.array(data['z'])\n",
    "whim = np.array(data['WHIM'])\n",
    "dim = np.array(data['DIM'])\n",
    "sfg = np.array(data['SFGas'])\n",
    "\n",
    "# Plotting limits\n",
    "\n",
    "xMin = -0.2 # redshift, keep data off axis at z=0\n",
    "xMax = 8.2\n",
    "\n",
    "yMin = 2.e-5 # Z/Zsun\n",
    "yMax = 5.0  "
   ]
  },
  {
   "cell_type": "markdown",
   "metadata": {},
   "source": [
    "### Make the Plot\n",
    "\n",
    "Plot the reshift evolution as follows:\n",
    " * WHIM - solid black line\n",
    " * DIM - dashed black line\n",
    " * Star-forming gas - dotted black line\n"
   ]
  },
  {
   "cell_type": "code",
   "execution_count": null,
   "metadata": {},
   "outputs": [],
   "source": [
    "fig,ax = plt.subplots()\n",
    "\n",
    "fig.set_dpi(dpi)\n",
    "fig.set_size_inches(wInches,hInches,forward=True)\n",
    "\n",
    "ax.tick_params('both',length=6,width=lwidth,which='major',direction='in',top='on',right='on')\n",
    "ax.tick_params('both',length=3,width=lwidth,which='minor',direction='in',top='on',right='on')\n",
    "\n",
    "plt.xlim(xMin,xMax)\n",
    "ax.xaxis.set_major_locator(MultipleLocator(2))\n",
    "ax.xaxis.set_minor_locator(MultipleLocator(0.5))\n",
    "plt.xlabel(r'z')\n",
    "\n",
    "plt.ylim(yMin,yMax)\n",
    "ax.set_yscale('log')\n",
    "ax.set_yticks([0.0001,0.001,0.01,0.1,1])\n",
    "ax.set_yticklabels([r'10$^{-4}$','0.001','0.01','0.1','1'])\n",
    "plt.ylabel(r'Z/Z$_{\\odot}$',fontsize=axisFontSize)\n",
    "\n",
    "# plot the data\n",
    "\n",
    "plt.plot(z,whim,'-',color='black',lw=1.5*lwidth,zorder=10)\n",
    "plt.plot(z,dim,'--',color='black',lw=1.5*lwidth,zorder=10)\n",
    "plt.plot(z,sfg,':',color='black',lw=1.5*lwidth,zorder=10)\n",
    "\n",
    "# Annotate\n",
    "\n",
    "plt.text(4.0,0.035,'WHIM',color='black',fontsize=axisFontSize,ha='center',va='center')\n",
    "plt.text(4.5,0.6,'star-forming',color='black',fontsize=axisFontSize,ha='center',va='center')\n",
    "plt.text(3.5,0.0023,'DIM',color='black',fontsize=axisFontSize,ha='center',va='center')\n",
    "\n",
    "# plot and file\n",
    "\n",
    "plt.plot()\n",
    "plt.savefig(plotFile,bbox_inches='tight',facecolor='white')"
   ]
  }
 ],
 "metadata": {
  "kernelspec": {
   "display_name": "Python 3",
   "language": "python",
   "name": "python3"
  },
  "language_info": {
   "codemirror_mode": {
    "name": "ipython",
    "version": 3
   },
   "file_extension": ".py",
   "mimetype": "text/x-python",
   "name": "python",
   "nbconvert_exporter": "python",
   "pygments_lexer": "ipython3",
   "version": "3.8.5"
  }
 },
 "nbformat": 4,
 "nbformat_minor": 2
}
