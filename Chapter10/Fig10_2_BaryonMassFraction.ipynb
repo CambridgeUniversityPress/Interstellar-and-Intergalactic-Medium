{
 "cells": [
  {
   "cell_type": "markdown",
   "metadata": {},
   "source": [
    "# Baryonic mass fraction evolution\n",
    "\n",
    "Figure 10.2 from Chapter 10 of *Interstellar and Intergalactic Medium* by Ryden & Pogge, 2021, \n",
    "Cambridge University Press.\n",
    "\n",
    "Plot of the redshift evolution of the mass fraction of baryonic matter in each of four components: diffuse IGM,\n",
    "warm-hot IGM, dense gas ($n>10^4(1+z)$ ${\\rm cm}^{-3}$ and T<10$^7$K), and hot gas (T>10$^7$K).\n",
    "\n",
    "Data from [Martizzi et al. 2019, MNRAS, 486, 3766](https://ui.adsabs.harvard.edu/abs/2019MNRAS.486.3766M),\n",
    "with additional data provided to the authors by Davide Martizzi."
   ]
  },
  {
   "cell_type": "code",
   "execution_count": null,
   "metadata": {},
   "outputs": [],
   "source": [
    "%matplotlib inline\n",
    "\n",
    "import math\n",
    "import numpy as np\n",
    "import pandas as pd\n",
    "import matplotlib\n",
    "import matplotlib.pyplot as plt\n",
    "from matplotlib.ticker import MultipleLocator, LogLocator, NullFormatter\n",
    "\n",
    "# Filter nuisance warnings\n",
    "\n",
    "import warnings\n",
    "warnings.filterwarnings('ignore',category=UserWarning, append=True)\n",
    "warnings.filterwarnings('ignore',category=RuntimeWarning, append=True)"
   ]
  },
  {
   "cell_type": "markdown",
   "metadata": {},
   "source": [
    "## Standard Plot Format\n",
    "\n",
    "Setup the standard plotting format and make the plot. Fonts and resolution adopted follow CUP style.\n"
   ]
  },
  {
   "cell_type": "code",
   "execution_count": null,
   "metadata": {},
   "outputs": [],
   "source": [
    "figName = 'Fig10_2'\n",
    "\n",
    "# graphic aspect ratio = width/height\n",
    "\n",
    "aspect = 4.0/3.0 # 4:3\n",
    "\n",
    "# Text width in inches - don't change, this is defined by the print layout\n",
    "\n",
    "textWidth = 6.0 # inches\n",
    "\n",
    "# output format and resolution\n",
    "\n",
    "figFmt = 'png'\n",
    "dpi = 600\n",
    "\n",
    "# Graphic dimensions \n",
    "\n",
    "plotWidth = dpi*textWidth\n",
    "plotHeight = plotWidth/aspect\n",
    "axisFontSize = 10\n",
    "labelFontSize = 6\n",
    "lwidth = 0.5\n",
    "axisPad = 5\n",
    "wInches = textWidth \n",
    "hInches = wInches/aspect\n",
    "\n",
    "# Plot filename\n",
    "\n",
    "plotFile = f'{figName}.{figFmt}'\n",
    "\n",
    "# LaTeX is used throughout for markup of symbols, Times-Roman serif font\n",
    "\n",
    "plt.rc('text', usetex=True)\n",
    "plt.rc('font', **{'family':'serif','serif':['Times-Roman'],'weight':'bold','size':'16'})\n",
    "\n",
    "# Font and line weight defaults for axes\n",
    "\n",
    "matplotlib.rc('axes',linewidth=lwidth)\n",
    "matplotlib.rcParams.update({'font.size':axisFontSize})\n",
    "\n",
    "# axis and label padding\n",
    "\n",
    "plt.rcParams['xtick.major.pad'] = f'{axisPad}'\n",
    "plt.rcParams['ytick.major.pad'] = f'{axisPad}'\n",
    "plt.rcParams['axes.labelpad'] = f'{axisPad}'\n"
   ]
  },
  {
   "cell_type": "markdown",
   "metadata": {},
   "source": [
    "## Baryonic Mass Fraction data\n",
    "\n",
    "Data from Martizzi et al. 2018, Table 1, provided by Davide Martizzi.\n",
    "\n",
    "The data file, Martizzi_BaryonicMass.txt, is a multicolumn ASCII table organized as follows:\n",
    " * z - redshift\n",
    " * WHIM - warm/hot IGM mass fraction (units 0..1)\n",
    " * DIM - diffuse IGM mass fraction\n",
    " * Hot - Hot gas mass fraction (T>10$^7$K and any density) \n",
    " * Dense - dense gas mass fraction ($n>10^4(1+z)$ ${\\rm cm}^{-3}$ and T<10$^7$K)"
   ]
  },
  {
   "cell_type": "code",
   "execution_count": null,
   "metadata": {},
   "outputs": [],
   "source": [
    "dataFile = 'Martizzi_BaryonicMass.txt'\n",
    "\n",
    "data = pd.read_csv(dataFile,sep=r'\\s+',comment='#')\n",
    "z = np.array(data['z'])\n",
    "whim = np.array(data['WHIM'])\n",
    "dim = np.array(data['DIM'])\n",
    "hot = np.array(data['Hot'])\n",
    "dense = np.array(data['Dense'])\n",
    "\n",
    "# Plotting limits\n",
    "\n",
    "xMin = -0.2 # redshift, keep data off axis at z=0\n",
    "xMax = 8.0\n",
    "\n",
    "yMin = 0.0005 # mass fraction\n",
    "yMax = 2.0    # keep data off axis as mass fraction tends to 1\n"
   ]
  },
  {
   "cell_type": "markdown",
   "metadata": {},
   "source": [
    "### Make the Plot\n",
    "\n",
    "Plot the reshift evolution as follows:\n",
    " * WHIM - solid black line\n",
    " * DIM - dashed black line\n",
    " * Hot Gas - dot-dashed black line\n",
    " * dense gas - dotted black line\n"
   ]
  },
  {
   "cell_type": "code",
   "execution_count": null,
   "metadata": {},
   "outputs": [],
   "source": [
    "fig,ax = plt.subplots()\n",
    "\n",
    "fig.set_dpi(dpi)\n",
    "fig.set_size_inches(wInches,hInches,forward=True)\n",
    "\n",
    "ax.tick_params('both',length=6,width=lwidth,which='major',direction='in',top='on',right='on')\n",
    "ax.tick_params('both',length=3,width=lwidth,which='minor',direction='in',top='on',right='on')\n",
    "\n",
    "plt.xlim(xMin,xMax)\n",
    "ax.xaxis.set_major_locator(MultipleLocator(2))\n",
    "ax.xaxis.set_minor_locator(MultipleLocator(0.5))\n",
    "plt.xlabel(r'z')\n",
    "\n",
    "plt.ylim(yMin,yMax)\n",
    "ax.set_yscale('log')\n",
    "ax.set_yticks([0.001,0.01,0.1,1])\n",
    "ax.set_yticklabels(['0.001','0.01','0.1','1'])\n",
    "plt.ylabel(r'Mass fraction',fontsize=axisFontSize)\n",
    "\n",
    "# plot the data\n",
    "\n",
    "plt.plot(z,whim,'-',color='black',lw=1.5*lwidth,zorder=10)\n",
    "plt.plot(z,dim,'--',color='black',lw=1.5*lwidth,zorder=10)\n",
    "plt.plot(z,hot,'-.',color='black',lw=1.5*lwidth,zorder=10)\n",
    "plt.plot(z,dense,':',color='black',lw=1.5*lwidth,zorder=10)\n",
    "\n",
    "# Annotate\n",
    "\n",
    "plt.text(2.5,1.0,'DIM',color='black',ha='center',va='center',fontsize=axisFontSize)\n",
    "plt.text(3.75,0.18,'dense',color='black',ha='center',va='bottom',fontsize=axisFontSize)\n",
    "plt.text(5.0,0.03,'WHIM',color='black',ha='center',va='center',fontsize=axisFontSize)\n",
    "plt.text(1.8,0.008,'hot',color='black',ha='center',va='center',fontsize=axisFontSize)\n",
    "\n",
    "# plot and file\n",
    "\n",
    "plt.plot()\n",
    "plt.savefig(plotFile,bbox_inches='tight',facecolor='white')"
   ]
  }
 ],
 "metadata": {
  "kernelspec": {
   "display_name": "Python 3",
   "language": "python",
   "name": "python3"
  },
  "language_info": {
   "codemirror_mode": {
    "name": "ipython",
    "version": 3
   },
   "file_extension": ".py",
   "mimetype": "text/x-python",
   "name": "python",
   "nbconvert_exporter": "python",
   "pygments_lexer": "ipython3",
   "version": "3.8.5"
  }
 },
 "nbformat": 4,
 "nbformat_minor": 2
}
