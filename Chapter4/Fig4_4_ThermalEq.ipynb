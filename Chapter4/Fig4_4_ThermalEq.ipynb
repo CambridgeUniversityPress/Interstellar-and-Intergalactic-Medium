{
 "cells": [
  {
   "cell_type": "markdown",
   "metadata": {},
   "source": [
    "# HII Region Thermal Equilibrium\n",
    "\n",
    "Figure 4.4 from Chapter 4 of *Interstellar and Intergalactic Medium* by Ryden & Pogge, 2021, \n",
    "Cambridge University Press.\n",
    "\n",
    "Plot of the heating and cooling functions for an HII region ionized by a T$_{eff}$=40,000 K \n",
    "blackbody with $n_e=10^2$cm$^{-3}$ and a typical ISM mix of metals.\n",
    "\n",
    "Computed using the 2017 release of Cloudy (C17.02)\n",
    "[Ferland et al. 2017, RMxAA, 53, 385](https://ui.adsabs.harvard.edu/abs/2017RMxAA..53..385F/abstract).  We\n",
    "provide the data from the calculation for this notebook."
   ]
  },
  {
   "cell_type": "code",
   "execution_count": null,
   "metadata": {},
   "outputs": [],
   "source": [
    "%matplotlib inline\n",
    "\n",
    "import math\n",
    "import numpy as np\n",
    "import pandas as pd\n",
    "import matplotlib\n",
    "import matplotlib.pyplot as plt\n",
    "from matplotlib.ticker import MultipleLocator, LogLocator, NullFormatter\n",
    "\n",
    "# Filter nuisance warnings\n",
    "\n",
    "import warnings\n",
    "warnings.filterwarnings('ignore',category=UserWarning, append=True)\n",
    "warnings.filterwarnings('ignore',category=RuntimeWarning, append=True)"
   ]
  },
  {
   "cell_type": "markdown",
   "metadata": {},
   "source": [
    "## Standard Plot Format\n",
    "\n",
    "Setup the standard plotting format and make the plot. Fonts and resolution adopted follow CUP style."
   ]
  },
  {
   "cell_type": "code",
   "execution_count": null,
   "metadata": {},
   "outputs": [],
   "source": [
    "\n",
    "figName = 'Fig4_4' \n",
    "\n",
    "# graphic aspect ratio = width/height\n",
    "\n",
    "aspect = 4.0/3.0 # 4:3\n",
    "\n",
    "# Text width in inches - don't change, this is defined by the print layout\n",
    "\n",
    "textWidth = 6.0 # inches\n",
    "\n",
    "# output format and resolution\n",
    "\n",
    "figFmt = 'png'\n",
    "dpi = 600\n",
    "\n",
    "# Graphic dimensions \n",
    "\n",
    "plotWidth = dpi*textWidth\n",
    "plotHeight = plotWidth/aspect\n",
    "axisFontSize = 10\n",
    "labelFontSize = 6\n",
    "lwidth = 0.5\n",
    "axisPad = 5\n",
    "wInches = textWidth \n",
    "hInches = wInches/aspect\n",
    "\n",
    "# Plot filename\n",
    "\n",
    "plotFile = f'{figName}.{figFmt}'\n",
    "\n",
    "# LaTeX is used throughout for markup of symbols, Times-Roman serif font\n",
    "\n",
    "plt.rc('text', usetex=True)\n",
    "plt.rc('font', **{'family':'serif','serif':['Times-Roman'],'weight':'bold','size':'16'})\n",
    "\n",
    "# Font and line weight defaults for axes\n",
    "\n",
    "matplotlib.rc('axes',linewidth=lwidth)\n",
    "matplotlib.rcParams.update({'font.size':axisFontSize})\n",
    "\n",
    "# axis and label padding\n",
    "\n",
    "plt.rcParams['xtick.major.pad'] = f'{axisPad}'\n",
    "plt.rcParams['ytick.major.pad'] = f'{axisPad}'\n",
    "plt.rcParams['axes.labelpad'] = f'{axisPad}'\n"
   ]
  },
  {
   "cell_type": "markdown",
   "metadata": {},
   "source": [
    "## Cooling and Heating functions\n",
    "\n",
    "The cooling and heating functions are computed for a T=40000K blackbody, density $n_e$=100-cm$^{-3}$, and \n",
    "the CLOUDY \"ism\" abundances.  The parameters of the blackbody are those used by the Paris HII region \n",
    "contributions.  Data are stored in 3-column format:\n",
    " * Te = electron temperature in K\n",
    " * Heating = heating rate in erg cm^-3 s^-1\n",
    " * Cooling = cooling rate in erg cm^-3 s^-1\n",
    " \n",
    "Need to divide by $n_e^2$ to get into the volumetric rate units of erg cm$^3$ s$^{-1}$\n"
   ]
  },
  {
   "cell_type": "code",
   "execution_count": null,
   "metadata": {},
   "outputs": [],
   "source": [
    "dataFile = 'hII_40K_cool.txt'\n",
    "n_e = 100.0\n",
    "\n",
    "data = pd.read_csv(dataFile,sep=r'\\s+',comment='#')\n",
    "Te = np.array(data['Te'])\n",
    "heat = np.array(data['Heating'])/(n_e**2) # get into units of erg cm^3 s^-1\n",
    "cool = np.array(data['Cooling'])/(n_e**2)  \n",
    "\n",
    "xMin = 60.0   # Kelvin\n",
    "xMax = 60000.0\n",
    "\n",
    "yMin = 1.0e-25 # erg cm^3 s^-1\n",
    "yMax = 3.0e-22"
   ]
  },
  {
   "cell_type": "markdown",
   "metadata": {},
   "source": [
    "### Make the Plot\n",
    "\n",
    "Heating and cooling functions - cooling as a solid line, heating as a dashed line.  Log-log axes"
   ]
  },
  {
   "cell_type": "code",
   "execution_count": null,
   "metadata": {
    "scrolled": false
   },
   "outputs": [],
   "source": [
    "fig,ax = plt.subplots(figsize=(wInches,hInches),dpi=dpi)\n",
    "\n",
    "ax.tick_params('both',length=6,width=lwidth,which='major',direction='in',top='on',right='on')\n",
    "ax.tick_params('both',length=3,width=lwidth,which='minor',direction='in',top='on',right='on')\n",
    "\n",
    "ax.set_xlim(xMin,xMax)\n",
    "ax.set_xscale('log')\n",
    "ax.set_xticks([100.,300,1000.,3000,1.0e4,3.0e4])\n",
    "ax.set_xticklabels([r'100',r'300',r'1000',r'3000',r'10000',r'30000'])\n",
    "ax.set_xlabel(r'Temperature [K]')\n",
    "\n",
    "ax.set_ylim(yMin,yMax)\n",
    "ax.set_yscale('log')\n",
    "ax.set_ylabel(r'Heating/Cooling rate [erg cm$^3$ s$^{-1}$]',fontsize=axisFontSize)\n",
    "\n",
    "# Heating\n",
    "\n",
    "ax.plot(Te,heat,'--',lw=1.0,color='black',zorder=10)\n",
    "\n",
    "# Cooling\n",
    "\n",
    "ax.plot(Te,cool,'-',lw=1.0,color='black',zorder=10)\n",
    "\n",
    "# Annotate\n",
    "\n",
    "xlab = 2000.\n",
    "ax.text(xlab,9.5e-24,r'Heating',rotation=-18,color='black',va='bottom',ha='center',fontsize=axisFontSize)\n",
    "ax.text(xlab,4.2e-24,r'Cooling',rotation=4,color='black',va='bottom',ha='center',fontsize=axisFontSize)\n",
    "\n",
    "# plot and file\n",
    "\n",
    "plt.plot()\n",
    "plt.savefig(plotFile,bbox_inches='tight',facecolor='white')"
   ]
  }
 ],
 "metadata": {
  "kernelspec": {
   "display_name": "Python 3 (ipykernel)",
   "language": "python",
   "name": "python3"
  },
  "language_info": {
   "codemirror_mode": {
    "name": "ipython",
    "version": 3
   },
   "file_extension": ".py",
   "mimetype": "text/x-python",
   "name": "python",
   "nbconvert_exporter": "python",
   "pygments_lexer": "ipython3",
   "version": "3.9.7"
  }
 },
 "nbformat": 4,
 "nbformat_minor": 2
}
