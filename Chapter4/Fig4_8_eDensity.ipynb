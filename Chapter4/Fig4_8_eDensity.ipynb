{
 "cells": [
  {
   "cell_type": "markdown",
   "metadata": {},
   "source": [
    "# SII and OII nebular electron density diagnostics\n",
    "\n",
    "Figure 4.8 from Chapter 4 of *Interstellar and Intergalactic Medium* by Ryden & Pogge, 2021, \n",
    "Cambridge University Press.\n",
    "\n",
    "Plot the density sensitivity of the [OII] and [SII] doublet emission line ratios to electron density, a key \n",
    "observational diagnostic of nebular electron density in the visible-spectrum of ionized gas regions (HII regions,\n",
    "planetary nebulae, supernova remnants, and active galactic nuclei narrow-line regions).\n",
    "\n",
    "For this notebook we are using PyNeb [Luridiana, Morisset, & Shaw 2015](https://ui.adsabs.harvard.edu/abs/2015A%26A...573A..42L/abstract) to perform the calculation of the line\n",
    "emissivities.  We opted to include pyneb in this notebook rather than using it offline to extract the\n",
    "data we wish to plot by way of introducing this powerful tool.\n",
    " * [PyNeb Code at PyPl](https://pypi.org/project/PyNeb/)\n",
    " \n",
    "PyNeb is not part of default python distributions and needs to be installed before using this notebook."
   ]
  },
  {
   "cell_type": "code",
   "execution_count": 1,
   "metadata": {},
   "outputs": [
    {
     "ename": "ModuleNotFoundError",
     "evalue": "No module named 'pyneb'",
     "output_type": "error",
     "traceback": [
      "\u001b[0;31m---------------------------------------------------------------------------\u001b[0m",
      "\u001b[0;31mModuleNotFoundError\u001b[0m                       Traceback (most recent call last)",
      "\u001b[0;32m/var/folders/tr/y78dbspn70vcff6rjxk47wh00000gn/T/ipykernel_6555/3368211638.py\u001b[0m in \u001b[0;36m<module>\u001b[0;34m\u001b[0m\n\u001b[1;32m     10\u001b[0m \u001b[0;31m# PyNeb (must be installed by the user)\u001b[0m\u001b[0;34m\u001b[0m\u001b[0;34m\u001b[0m\u001b[0m\n\u001b[1;32m     11\u001b[0m \u001b[0;34m\u001b[0m\u001b[0m\n\u001b[0;32m---> 12\u001b[0;31m \u001b[0;32mimport\u001b[0m \u001b[0mpyneb\u001b[0m \u001b[0;32mas\u001b[0m \u001b[0mpn\u001b[0m\u001b[0;34m\u001b[0m\u001b[0;34m\u001b[0m\u001b[0m\n\u001b[0m\u001b[1;32m     13\u001b[0m \u001b[0;34m\u001b[0m\u001b[0m\n\u001b[1;32m     14\u001b[0m \u001b[0;31m# Filter nuisance warnings\u001b[0m\u001b[0;34m\u001b[0m\u001b[0;34m\u001b[0m\u001b[0m\n",
      "\u001b[0;31mModuleNotFoundError\u001b[0m: No module named 'pyneb'"
     ]
    }
   ],
   "source": [
    "%matplotlib inline\n",
    "\n",
    "import math\n",
    "import numpy as np\n",
    "import pandas as pd\n",
    "import matplotlib\n",
    "import matplotlib.pyplot as plt\n",
    "from matplotlib.ticker import MultipleLocator, LogLocator, NullFormatter\n",
    "\n",
    "# PyNeb (must be installed by the user)\n",
    "\n",
    "import pyneb as pn\n",
    "\n",
    "# Filter nuisance warnings\n",
    "\n",
    "import warnings\n",
    "warnings.filterwarnings('ignore',category=UserWarning, append=True)\n",
    "warnings.filterwarnings('ignore',category=RuntimeWarning, append=True)"
   ]
  },
  {
   "cell_type": "markdown",
   "metadata": {},
   "source": [
    "## Standard Plot Format\n",
    "\n",
    "Setup the standard plotting format and make the plot. Fonts and resolution adopted follow CUP style."
   ]
  },
  {
   "cell_type": "code",
   "execution_count": null,
   "metadata": {},
   "outputs": [],
   "source": [
    "figName = 'Fig4_8' \n",
    "\n",
    "# graphic aspect ratio = width/height\n",
    "\n",
    "aspect = 4.0/3.0 # 4:3\n",
    "\n",
    "# Text width in inches - don't change, this is defined by the print layout\n",
    "\n",
    "textWidth = 6.0 # inches\n",
    "\n",
    "# output format and resolution\n",
    "\n",
    "figFmt = 'png'\n",
    "dpi = 600\n",
    "\n",
    "# Graphic dimensions \n",
    "\n",
    "plotWidth = dpi*textWidth\n",
    "plotHeight = plotWidth/aspect\n",
    "axisFontSize = 10\n",
    "labelFontSize = 6\n",
    "lwidth = 0.5\n",
    "axisPad = 5\n",
    "wInches = textWidth \n",
    "hInches = wInches/aspect\n",
    "\n",
    "# Plot filename\n",
    "\n",
    "plotFile = f'{figName}.{figFmt}'\n",
    "\n",
    "# LaTeX is used throughout for markup of symbols, Times-Roman serif font\n",
    "\n",
    "plt.rc('text', usetex=True)\n",
    "plt.rc('font', **{'family':'serif','serif':['Times-Roman'],'weight':'bold','size':'16'})\n",
    "\n",
    "# Font and line weight defaults for axes\n",
    "\n",
    "matplotlib.rc('axes',linewidth=lwidth)\n",
    "matplotlib.rcParams.update({'font.size':axisFontSize})\n",
    "\n",
    "# axis and label padding\n",
    "\n",
    "plt.rcParams['xtick.major.pad'] = f'{axisPad}'\n",
    "plt.rcParams['ytick.major.pad'] = f'{axisPad}'\n",
    "plt.rcParams['axes.labelpad'] = f'{axisPad}'"
   ]
  },
  {
   "cell_type": "markdown",
   "metadata": {},
   "source": [
    "## Density-sensitive doublet-line ratio calculations\n",
    "\n",
    "Use PyNeb to compute the density-sensitive doublet emission-line ratios \n",
    " * [S II]$\\lambda$6716/6731\n",
    " * [O II]$\\lambda$3729/3726\n",
    " \n",
    "for electron temperature $T_e$=10$^4$K and a logarithmic range of electron densities from\n",
    "$n_e=10$ to $10^6$cm$^{-3}$.\n",
    "\n",
    "We use the PyNeb Atom() and getEmissivity() methods."
   ]
  },
  {
   "cell_type": "code",
   "execution_count": null,
   "metadata": {},
   "outputs": [],
   "source": [
    "# electron Temperature for the calculation\n",
    "\n",
    "Te = 1.0e4 # Kelvin\n",
    "\n",
    "# logarithmic range of electron densities for the calculation\n",
    "\n",
    "ne = 10.0**(np.linspace(1.0,6.0,501))\n",
    "\n",
    "# Calculation the emission-line emissivities using PyNeb\n",
    "\n",
    "# [S II]6716/6731 doublet ratio\n",
    "\n",
    "S2 = pn.Atom('S',2)\n",
    "s2ratio = S2.getEmissivity(tem=Te,den=ne,wave=6716)/S2.getEmissivity(tem=Te,den=ne,wave=6731)\n",
    "\n",
    "# [O II]6716/6731 doublet ratio\n",
    "\n",
    "O2 = pn.Atom('O',2)\n",
    "o2ratio = O2.getEmissivity(tem=Te,den=ne,wave=3729)/O2.getEmissivity(tem=Te,den=ne,wave=3726)\n",
    "\n",
    "# plotting limits\n",
    "\n",
    "xMin = 10.0 # cm^-3\n",
    "xMax = 1.0e6\n",
    "\n",
    "yMin = 0.25 # dimensionless doublet ratio\n",
    "yMax = 1.6"
   ]
  },
  {
   "cell_type": "markdown",
   "metadata": {},
   "source": [
    "### Make the Plot\n",
    "\n",
    "Plot the doublet ratio as a function of $\\log_{10}n_e$. [OII] as a solid line, [SII] as a dotted line."
   ]
  },
  {
   "cell_type": "code",
   "execution_count": null,
   "metadata": {},
   "outputs": [],
   "source": [
    "fig,ax = plt.subplots(figsize=(wInches,hInches),dpi=dpi)\n",
    "\n",
    "ax.tick_params('both',length=6,width=lwidth,which='major',direction='in',top='on',right='on')\n",
    "ax.tick_params('both',length=3,width=lwidth,which='minor',direction='in',top='on',right='on')\n",
    "\n",
    "# x-axis is log10(n_e)\n",
    "\n",
    "ax.set_xlim(xMin,xMax)\n",
    "ax.set_xscale('log')\n",
    "ax.set_xticks([10.,100.,1000.,1.0e4,1.0e5,1.0e6])\n",
    "ax.set_xlabel(r'n$_{\\rm e}$ [cm$^{-3}$]')\n",
    "locmin = matplotlib.ticker.LogLocator(base=10.0,subs=[0.1,0.2,0.3,0.4,0.5,0.6,0.7,0.8,0.9],numticks=10)\n",
    "ax.xaxis.set_minor_locator(locmin)\n",
    "ax.xaxis.set_minor_formatter(matplotlib.ticker.NullFormatter())\n",
    "\n",
    "ax.set_ylim(yMin,yMax)\n",
    "ax.yaxis.set_major_locator(MultipleLocator(0.2))\n",
    "ax.set_ylabel(r'Line ratio',fontsize=axisFontSize)\n",
    "\n",
    "# OII \n",
    "\n",
    "ax.plot(ne,o2ratio,'-',lw=1.0,color='black',zorder=10)\n",
    "ax.text(200.,1.3,r'[O\\,{\\sc ii}]$\\lambda$3729/3726',color='black',ha='left',va='center',fontsize=axisFontSize)\n",
    "\n",
    "# SII\n",
    "\n",
    "ax.plot(ne,s2ratio,':',lw=1.0,color='black',zorder=10)\n",
    "ax.text(1.0e5,0.55,r'[S\\,{\\sc ii}]$\\lambda$6716/6731',color='black',ha='center',va='top',fontsize=axisFontSize)\n",
    "\n",
    "# Annotate with Te\n",
    "\n",
    "ax.text(1.0e5,1.4,r'T$_e$=10$^4$\\,K',color='black',va='center',ha='center',fontsize=axisFontSize)\n",
    "\n",
    "# plot and file\n",
    "\n",
    "plt.plot()\n",
    "plt.savefig(plotFile,bbox_inches='tight',facecolor='white')"
   ]
  }
 ],
 "metadata": {
  "kernelspec": {
   "display_name": "Python 3 (ipykernel)",
   "language": "python",
   "name": "python3"
  },
  "language_info": {
   "codemirror_mode": {
    "name": "ipython",
    "version": 3
   },
   "file_extension": ".py",
   "mimetype": "text/x-python",
   "name": "python",
   "nbconvert_exporter": "python",
   "pygments_lexer": "ipython3",
   "version": "3.9.7"
  }
 },
 "nbformat": 4,
 "nbformat_minor": 2
}
