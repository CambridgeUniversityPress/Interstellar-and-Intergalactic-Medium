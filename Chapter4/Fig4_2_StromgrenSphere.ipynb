{
 "cells": [
  {
   "cell_type": "markdown",
   "metadata": {},
   "source": [
    "# Stromgren Sphere\n",
    "\n",
    "Figure 4.2 from Chapter 4 of *Interstellar and Intergalactic Medium* by Ryden & Pogge, 2021, \n",
    "Cambridge University Press.\n",
    "\n",
    "\n",
    "Plot the radius of a Stromgren sphere as a function of time scaled by the recombination time."
   ]
  },
  {
   "cell_type": "code",
   "execution_count": null,
   "metadata": {},
   "outputs": [],
   "source": [
    "%matplotlib inline\n",
    "\n",
    "import math\n",
    "import numpy as np\n",
    "import pandas as pd\n",
    "import matplotlib\n",
    "import matplotlib.pyplot as plt\n",
    "from matplotlib.ticker import MultipleLocator, LogLocator, NullFormatter\n",
    "\n",
    "import warnings\n",
    "warnings.filterwarnings('ignore',category=UserWarning, append=True)\n",
    "warnings.filterwarnings('ignore',category=RuntimeWarning, append=True)"
   ]
  },
  {
   "cell_type": "markdown",
   "metadata": {},
   "source": [
    "## Standard Plot Format\n",
    "\n",
    "Setup the standard plotting format and make the plot. Fonts and resolution adopted follow CUP style."
   ]
  },
  {
   "cell_type": "code",
   "execution_count": null,
   "metadata": {},
   "outputs": [],
   "source": [
    "figName = 'Fig4_2' \n",
    "\n",
    "# graphic aspect ratio = width/height\n",
    "\n",
    "aspect = 4.0/3.0 # 4:3\n",
    "\n",
    "# Text width in inches - don't change, this is defined by the print layout\n",
    "\n",
    "textWidth = 6.0 # inches\n",
    "\n",
    "# output format and resolution\n",
    "\n",
    "figFmt = 'png'\n",
    "dpi = 600\n",
    "\n",
    "# Graphic dimensions \n",
    "\n",
    "plotWidth = dpi*textWidth\n",
    "plotHeight = plotWidth/aspect\n",
    "axisFontSize = 10\n",
    "labelFontSize = 6\n",
    "lwidth = 0.5\n",
    "axisPad = 5\n",
    "wInches = textWidth \n",
    "hInches = wInches/aspect\n",
    "\n",
    "# Plot filename\n",
    "\n",
    "plotFile = f'{figName}.{figFmt}'\n",
    "\n",
    "# LaTeX is used throughout for markup of symbols, Times-Roman serif font\n",
    "\n",
    "plt.rc('text', usetex=True)\n",
    "plt.rc('font', **{'family':'serif','serif':['Times-Roman'],'weight':'bold','size':'16'})\n",
    "\n",
    "# Font and line weight defaults for axes\n",
    "\n",
    "matplotlib.rc('axes',linewidth=lwidth)\n",
    "matplotlib.rcParams.update({'font.size':axisFontSize})\n",
    "\n",
    "# axis and label padding\n",
    "\n",
    "plt.rcParams['xtick.major.pad'] = f'{axisPad}'\n",
    "plt.rcParams['ytick.major.pad'] = f'{axisPad}'\n",
    "plt.rcParams['axes.labelpad'] = f'{axisPad}'"
   ]
  },
  {
   "cell_type": "markdown",
   "metadata": {},
   "source": [
    "## Stromgren Sphere\n",
    "\n",
    "The radius of a Stromgren sphere grows in time as a function\n",
    "\\begin{equation}\n",
    "R(t) = R_{S}\\left(1-e^{t/t_{rec}}\\right)^{1/3}\n",
    "\\end{equation}\n",
    "\n",
    "where $R_{S}$ is the Stromgren radius, $t_{rec}=1/n_e\\alpha$ is the recombination time given electron \n",
    "density $n_e$ and recombination coefficient $\\alpha$.\n",
    "\n",
    "We perform the calculation for 0 to 4 recombination times."
   ]
  },
  {
   "cell_type": "code",
   "execution_count": null,
   "metadata": {},
   "outputs": [],
   "source": [
    "# do the calculation\n",
    "\n",
    "ttrec = np.linspace(0.0,4.0,1001)\n",
    "rrs = np.power((1.0-np.exp(-ttrec)),(1.0/3.0))\n",
    "\n",
    "# plotting limits\n",
    "\n",
    "xMin = -0.02 # t/t_rec\n",
    "xMax = 4.0\n",
    "\n",
    "yMin = 0.0 # R/R_S\n",
    "yMax = 1.1\n",
    "\n",
    "# make the plot\n",
    "\n",
    "fig,ax = plt.subplots(figsize=(wInches,hInches),dpi=dpi)\n",
    "\n",
    "ax.tick_params('both',length=6,width=lwidth,which='major',direction='in',top='on',right='on')\n",
    "ax.tick_params('both',length=3,width=lwidth,which='minor',direction='in',top='on',right='on')\n",
    "\n",
    "ax.set_xlim(xMin,xMax)\n",
    "ax.xaxis.set_major_locator(MultipleLocator(0.5))\n",
    "ax.set_xlabel('$t/t_{rec}$',fontsize=axisFontSize)\n",
    "\n",
    "ax.set_ylim(yMin,yMax)\n",
    "ax.yaxis.set_major_locator(MultipleLocator(0.2))\n",
    "ax.set_ylabel(r'$R/R_S$',fontsize=axisFontSize)\n",
    "\n",
    "ax.plot(ttrec,rrs,lw=1.5,color='black',zorder=10)\n",
    "\n",
    "# plot and create file\n",
    "\n",
    "plt.plot()\n",
    "plt.savefig(plotFile,bbox_inches='tight',facecolor='white')"
   ]
  }
 ],
 "metadata": {
  "kernelspec": {
   "display_name": "Python 3 (ipykernel)",
   "language": "python",
   "name": "python3"
  },
  "language_info": {
   "codemirror_mode": {
    "name": "ipython",
    "version": 3
   },
   "file_extension": ".py",
   "mimetype": "text/x-python",
   "name": "python",
   "nbconvert_exporter": "python",
   "pygments_lexer": "ipython3",
   "version": "3.9.7"
  }
 },
 "nbformat": 4,
 "nbformat_minor": 2
}
