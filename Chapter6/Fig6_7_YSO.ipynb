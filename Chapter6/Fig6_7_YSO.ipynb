{
 "cells": [
  {
   "cell_type": "markdown",
   "metadata": {},
   "source": [
    "# Infrared spectrum of silicates and ices in a YSO\n",
    "\n",
    "Figure 6.7 from Chapter 6 of *Interstellar and Intergalactic Medium* by Ryden & Pogge, 2021, \n",
    "Cambridge University Press.\n",
    "\n",
    "Infrared spectrum of RAFGL7009S (IRAS 18316-0602), a young stellar object embedded behind ~40 magnitudes\n",
    "of dust extinction at optical wavelengths from [Dartois et al. 1998, A&A, 338, 21](https://ui.adsabs.harvard.edu/abs/1998A%26A...338L..21D).\n",
    "\n",
    "ISO archival SWS/LWS spectral data provided by Adwin Boogert (U. Hawaii) of GL7009S (IRAS18316-0602), originally\n",
    "published by [Dartois et al. 1998](https://ui.adsabs.harvard.edu/abs/1998A%26A...338L..21D)."
   ]
  },
  {
   "cell_type": "code",
   "execution_count": null,
   "metadata": {},
   "outputs": [],
   "source": [
    "%matplotlib inline\n",
    "\n",
    "import math\n",
    "import numpy as np\n",
    "import pandas as pd\n",
    "import matplotlib\n",
    "import matplotlib.pyplot as plt\n",
    "from matplotlib.ticker import MultipleLocator, LogLocator, NullFormatter\n",
    "\n",
    "import warnings\n",
    "warnings.filterwarnings('ignore',category=UserWarning, append=True)"
   ]
  },
  {
   "cell_type": "markdown",
   "metadata": {},
   "source": [
    "## Standard Plot Format\n",
    "\n",
    "Setup the standard plotting format and make the plot. Fonts and resolution adopted follow CUP style."
   ]
  },
  {
   "cell_type": "code",
   "execution_count": null,
   "metadata": {},
   "outputs": [],
   "source": [
    "figName = 'Fig6_7'\n",
    "\n",
    "# graphic aspect ratio = width/height\n",
    "\n",
    "aspect = 4.0/3.0 # 4:3\n",
    "\n",
    "# Text width in inches - don't change, this is defined by the print layout\n",
    "\n",
    "textWidth = 6.0 # inches\n",
    "\n",
    "# output format and resolution\n",
    "\n",
    "figFmt = 'png'\n",
    "dpi = 600\n",
    "\n",
    "# Graphic dimensions \n",
    "\n",
    "plotWidth = dpi*textWidth\n",
    "plotHeight = plotWidth/aspect\n",
    "axisFontSize = 10\n",
    "labelFontSize = 6\n",
    "lwidth = 0.5\n",
    "axisPad = 5\n",
    "wInches = textWidth \n",
    "hInches = wInches/aspect\n",
    "\n",
    "# Plot filename\n",
    "\n",
    "plotFile = f'{figName}.{figFmt}'\n",
    "\n",
    "# LaTeX is used throughout for markup of symbols, Times-Roman serif font\n",
    "\n",
    "plt.rc('text', usetex=True)\n",
    "plt.rc('font', **{'family':'serif','serif':['Times-Roman'],'weight':'bold','size':'16'})\n",
    "\n",
    "# Font and line weight defaults for axes\n",
    "\n",
    "matplotlib.rc('axes',linewidth=lwidth)\n",
    "matplotlib.rcParams.update({'font.size':axisFontSize})\n",
    "\n",
    "# axis and label padding\n",
    "\n",
    "plt.rcParams['xtick.major.pad'] = f'{axisPad}'\n",
    "plt.rcParams['ytick.major.pad'] = f'{axisPad}'\n",
    "plt.rcParams['axes.labelpad'] = f'{axisPad}'"
   ]
  },
  {
   "cell_type": "markdown",
   "metadata": {},
   "source": [
    "## Data File\n",
    "\n",
    "The spectrum has been converted to 2-column ASCII format:\n",
    " * lam = wavelength in microns\n",
    " * flux = flux in units of W/cm^2/um\n",
    " \n",
    "We only plot a subset between 2.5 and 30-microns."
   ]
  },
  {
   "cell_type": "code",
   "execution_count": null,
   "metadata": {},
   "outputs": [],
   "source": [
    "dataFile = 'GL7009S_ISO.txt'\n",
    "\n",
    "data = pd.read_csv(dataFile,sep=r'\\s+',comment='#')\n",
    "\n",
    "lam = np.array(data['lam'])\n",
    "flux = np.array(data['flux'])\n",
    "\n",
    "# Plotting limits\n",
    "\n",
    "minX = 2.6\n",
    "maxX = 30.0\n",
    "\n",
    "minY = 1.0e-19\n",
    "maxY = 2.0e-15"
   ]
  },
  {
   "cell_type": "markdown",
   "metadata": {},
   "source": [
    "### Make the Plot\n",
    "\n",
    "Plot the spectrum, labeling spectral features."
   ]
  },
  {
   "cell_type": "code",
   "execution_count": null,
   "metadata": {},
   "outputs": [],
   "source": [
    "fig,ax = plt.subplots()\n",
    "\n",
    "fig.set_dpi(dpi)\n",
    "fig.set_size_inches(wInches,hInches,forward=True)\n",
    "\n",
    "ax.tick_params('both',length=6,width=lwidth,which='major',direction='in',top='on',right='on')\n",
    "ax.tick_params('both',length=3,width=lwidth,which='minor',direction='in',top='on',right='on')\n",
    "\n",
    "# Limits\n",
    "\n",
    "plt.xlim(minX,maxX)\n",
    "ax.set_xscale('log')\n",
    "ax.set_xticks([3,5,10,20])\n",
    "ax.set_xticklabels([r'3',r'5',r'10',r'20'])\n",
    "plt.xlabel(r'Wavelength [$\\mu$m]',fontsize=axisFontSize)\n",
    "\n",
    "plt.ylim(minY,maxY)\n",
    "ax.set_yscale('log')\n",
    "plt.ylabel(r'Flux [W cm$^{-2}$ $\\mu$m$^{-1}$]',fontsize=axisFontSize)\n",
    "\n",
    "plt.plot(lam,flux,'-',color='black',lw=lwidth,zorder=10)\n",
    "\n",
    "# Label features\n",
    "\n",
    "# H2O bands at 3 and 6-um\n",
    "\n",
    "plt.text(3.15,2e-17,r'H$_2$O',ha='center',va='center',fontsize=axisFontSize)\n",
    "plt.plot([6.0,6.0],[2.5e-16,5.5e-16],'-',color='black',lw=0.5)\n",
    "plt.text(6.0,7e-16,r'H$_2$O',ha='center',va='center',fontsize=axisFontSize)\n",
    "\n",
    "# silicate features at 10 and 18um\n",
    "\n",
    "plt.text(10.,3e-17,r'silicate',ha='center',va='center',fontsize=axisFontSize)\n",
    "plt.text(18.0,5e-17,r'silicate',ha='center',va='center',fontsize=axisFontSize)\n",
    "\n",
    "# other ice features\n",
    "\n",
    "plt.text( 4.4,3e-19,r'CO$_2$',ha='left',va='center',fontsize=axisFontSize)\n",
    "plt.text(15.4,1e-17,r'CO$_2$',ha='center',va='center',fontsize=axisFontSize)\n",
    "plt.text(4.7,4e-17,r'CO',ha='center',va='center',fontsize=axisFontSize)\n",
    "\n",
    "plt.plot([7.7,7.7],[3e-16,5e-16],'-',color='black',lw=0.5)\n",
    "plt.text(7.7,6e-16,r'CH$_4$',ha='center',va='center',fontsize=axisFontSize)\n",
    "\n",
    "plt.plot([4.88,4.88],[3e-16,5e-16],'-',color='black',lw=0.5)\n",
    "plt.text(4.88,6e-16,r'OCS',ha='center',va='center',fontsize=axisFontSize)\n",
    "\n",
    "# unknown 6.8um feature\n",
    "\n",
    "plt.text(6.85,6e-17,r'?',ha='center',va='center',fontsize=axisFontSize)\n",
    "\n",
    "plt.plot()\n",
    "plt.savefig(plotFile,bbox_inches='tight',facecolor='white')"
   ]
  }
 ],
 "metadata": {
  "kernelspec": {
   "display_name": "Python 3",
   "language": "python",
   "name": "python3"
  },
  "language_info": {
   "codemirror_mode": {
    "name": "ipython",
    "version": 3
   },
   "file_extension": ".py",
   "mimetype": "text/x-python",
   "name": "python",
   "nbconvert_exporter": "python",
   "pygments_lexer": "ipython3",
   "version": "3.8.5"
  }
 },
 "nbformat": 4,
 "nbformat_minor": 2
}
