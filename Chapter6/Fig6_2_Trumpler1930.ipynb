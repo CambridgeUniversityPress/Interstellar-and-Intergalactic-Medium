{
 "cells": [
  {
   "cell_type": "markdown",
   "metadata": {},
   "source": [
    "# Trumpler 1930 Dust Extinction\n",
    "\n",
    "Figure 6.2 from Chapter 6 of *Interstellar and Intergalactic Medium* by Ryden & Pogge, 2021, \n",
    "Cambridge University Press.\n",
    "\n",
    "Data are from [Trumpler, R. 1930, Lick Observatory Bulletin #420, 14, 154](https://ui.adsabs.harvard.edu/abs/1930LicOB..14..154T), Table 3.  The extinction curve derived\n",
    "uses a different normalization in the bulletin paper than in the oft-reproduced figure from the Trumpler\n",
    "1930 PASP paper ([Trumpler, R. 1930, PASP, 42, 267](https://ui.adsabs.harvard.edu/abs/1930PASP...42..267T), \n",
    "Figure 1).\n",
    "\n",
    "Table 3 gives distances and linear diameters to open star clusters.  We've created two data files:\n",
    " * Trumpler_GoodData.txt - Unflagged \n",
    " * Trumpler_BadData.txt - Trumpler's \"somewhat uncertain or less reliable\" data, designed by the entry being printed in italics in Table 3.\n",
    " \n",
    "The distances we use are from Table 3 column 8 (\"Obs.\"distance from spectral types) and column 10\n",
    "(\"from diam.\"), both converted to kiloparsecs."
   ]
  },
  {
   "cell_type": "code",
   "execution_count": null,
   "metadata": {},
   "outputs": [],
   "source": [
    "%matplotlib inline\n",
    "\n",
    "import os\n",
    "import sys\n",
    "import math\n",
    "import numpy as np\n",
    "import pandas as pd\n",
    "import matplotlib\n",
    "import matplotlib.pyplot as plt\n",
    "from matplotlib.ticker import MultipleLocator, LogLocator, NullFormatter\n",
    "\n",
    "import warnings\n",
    "warnings.filterwarnings('ignore',category=UserWarning, append=True)"
   ]
  },
  {
   "cell_type": "markdown",
   "metadata": {},
   "source": [
    "## Standard Plot Format\n",
    "\n",
    "Setup the standard plotting format and make the plot. Fonts and resolution adopted follow CUP style."
   ]
  },
  {
   "cell_type": "code",
   "execution_count": null,
   "metadata": {},
   "outputs": [],
   "source": [
    "figName = 'Fig6_2' \n",
    "\n",
    "# graphic aspect ratio = width/height\n",
    "\n",
    "aspect = 4.0/3.0 # 4:3\n",
    "\n",
    "# Text width in inches - don't change, this is defined by the print layout\n",
    "\n",
    "textWidth = 6.0 # inches\n",
    "\n",
    "# output format and resolution\n",
    "\n",
    "figFmt = 'png'\n",
    "dpi = 600\n",
    "\n",
    "# Graphic dimensions \n",
    "\n",
    "plotWidth = dpi*textWidth\n",
    "plotHeight = plotWidth/aspect\n",
    "axisFontSize = 10\n",
    "labelFontSize = 6\n",
    "lwidth = 0.5\n",
    "axisPad = 5\n",
    "wInches = textWidth \n",
    "hInches = wInches/aspect\n",
    "\n",
    "# Plot filename\n",
    "\n",
    "plotFile = f'{figName}.{figFmt}'\n",
    "\n",
    "# LaTeX is used throughout for markup of symbols, Times-Roman serif font\n",
    "\n",
    "plt.rc('text', usetex=True)\n",
    "plt.rc('font', **{'family':'serif','serif':['Times-Roman'],'weight':'bold','size':'16'})\n",
    "\n",
    "# Font and line weight defaults for axes\n",
    "\n",
    "matplotlib.rc('axes',linewidth=lwidth)\n",
    "matplotlib.rcParams.update({'font.size':axisFontSize})\n",
    "\n",
    "# axis and label padding\n",
    "\n",
    "plt.rcParams['xtick.major.pad'] = f'{axisPad}'\n",
    "plt.rcParams['ytick.major.pad'] = f'{axisPad}'\n",
    "plt.rcParams['axes.labelpad'] = f'{axisPad}'"
   ]
  },
  {
   "cell_type": "markdown",
   "metadata": {},
   "source": [
    "## Trumpler (1930) Data and Extinction Curve\n",
    "\n",
    "The data are derived from the Table 3 in Trumpler 1930, converted to modern units of kiloparsecs. We've divided\n",
    "the data into two files based on Trumpler's 2-fold division of the data into reliable and \"\"somewhat uncertain \n",
    "or less reliable\", which we abbreviate as \"good\" and \"bad\", respectively.  This is the division used for\n",
    "Trumpler's original diagram.\n",
    "\n",
    "The Trumpler extintion curve is of the form:\n",
    "$$ d_{L} = d_{A} e^{\\kappa d_{A}/2}$$\n",
    "where the extinction coefficient plotted is $\\kappa=0.6$kpc$^{-1}$, plotted as a dashed line."
   ]
  },
  {
   "cell_type": "code",
   "execution_count": null,
   "metadata": {},
   "outputs": [],
   "source": [
    "# Good data\n",
    "\n",
    "data = pd.read_csv('Trumpler_GoodData.txt',sep=r'\\s+',comment='#')\n",
    "dLgood = np.array(data['dL']) # luminosity distance\n",
    "dAgood = np.array(data['dA']) # angular diameter distance\n",
    "\n",
    "# Bad data\n",
    "\n",
    "data = pd.read_csv('Trumpler_BadData.txt',sep=r'\\s+',comment='#')\n",
    "dLbad = np.array(data['dL']) # luminosity distance\n",
    "dAbad = np.array(data['dA']) # angular diameter distance\n",
    "\n",
    "# Trumpler extinction curve\n",
    "\n",
    "k = 0.6 # kpc^-1 [modern units]\n",
    "dAext = np.linspace(0.0,4.0,401)\n",
    "dLext = dAext*np.exp(k*dAext/2)"
   ]
  },
  {
   "cell_type": "markdown",
   "metadata": {},
   "source": [
    "## Cluster angular diameter distance vs. luminosity distance\n",
    "\n",
    "Plot open cluster angular distance against luminosity distance (what Trumpler called \"photometric distance\").\n",
    "Good data are ploted as filled circles, the bad (less-reliable) data are plotted as open circles. \n",
    "\n",
    "The unextincted 1:1 relation is plotted as a dotted line."
   ]
  },
  {
   "cell_type": "code",
   "execution_count": null,
   "metadata": {},
   "outputs": [],
   "source": [
    "fig,ax = plt.subplots(figsize=(wInches,hInches),dpi=dpi)\n",
    "\n",
    "ax.tick_params('both',length=6,width=lwidth,which='major',direction='in',top='on',right='on')\n",
    "ax.tick_params('both',length=3,width=lwidth,which='minor',direction='in',top='on',right='on')\n",
    "\n",
    "ax.xaxis.set_major_locator(MultipleLocator(1))\n",
    "ax.xaxis.set_minor_locator(MultipleLocator(0.2))\n",
    "ax.set_xlabel(r'Luminosity distance [kpc]')\n",
    "ax.set_xlim(0,5)\n",
    "\n",
    "ax.yaxis.set_major_locator(MultipleLocator(1))\n",
    "ax.yaxis.set_minor_locator(MultipleLocator(0.2))\n",
    "ax.set_ylabel(r'Angular diameter distance [kpc]')\n",
    "ax.set_ylim(0,4)\n",
    "\n",
    "ax.plot(dLgood,dAgood,'o',mfc='black',mec='black',ms=3,zorder=10,mew=0.5)\n",
    "ax.plot(dLbad,dAbad,'o',mfc='white',mec='black',ms=3,zorder=9,mew=0.5)\n",
    "    \n",
    "ax.plot([0,4],[0,4],':',color='black',lw=1,zorder=5)\n",
    "ax.plot(dLext,dAext,'--',color='black',lw=1,zorder=7)\n",
    "\n",
    "plt.plot()\n",
    "plt.savefig(plotFile,bbox_inches='tight',facecolor='white')"
   ]
  }
 ],
 "metadata": {
  "kernelspec": {
   "display_name": "Python 3 (ipykernel)",
   "language": "python",
   "name": "python3"
  },
  "language_info": {
   "codemirror_mode": {
    "name": "ipython",
    "version": 3
   },
   "file_extension": ".py",
   "mimetype": "text/x-python",
   "name": "python",
   "nbconvert_exporter": "python",
   "pygments_lexer": "ipython3",
   "version": "3.9.7"
  }
 },
 "nbformat": 4,
 "nbformat_minor": 2
}
