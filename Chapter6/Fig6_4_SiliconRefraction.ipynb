{
 "cells": [
  {
   "cell_type": "markdown",
   "metadata": {},
   "source": [
    "# Index of Refraction of Silicon\n",
    "\n",
    "Figure 6.4 from Chapter 6 of *Interstellar and Intergalactic Medium* by Ryden & Pogge, 2021, \n",
    "Cambridge University Press.\n",
    "\n",
    "Plot of the real and imaginary components of the index of refraction of silicon at T=300 K.\n",
    "Data are from [Green 2008, Solar Energy Materials and Solar Cells, 92, 1305](https://www.sciencedirect.com/science/article/pii/S0927024808002158), Table 1 (doi: 10.1016/j.solmat.2008.06.009)\n"
   ]
  },
  {
   "cell_type": "code",
   "execution_count": null,
   "metadata": {},
   "outputs": [],
   "source": [
    "%matplotlib inline\n",
    "\n",
    "import os\n",
    "import sys\n",
    "import math\n",
    "import numpy as np\n",
    "import pandas as pd\n",
    "import matplotlib\n",
    "import matplotlib.pyplot as plt\n",
    "from matplotlib.ticker import MultipleLocator, LogLocator, NullFormatter\n",
    "\n",
    "import warnings\n",
    "warnings.filterwarnings('ignore',category=UserWarning, append=True)"
   ]
  },
  {
   "cell_type": "markdown",
   "metadata": {},
   "source": [
    "## Standard Plot Format\n",
    "\n",
    "Setup the standard plotting format and make the plot. Fonts and resolution adopted follow CUP style.\n"
   ]
  },
  {
   "cell_type": "code",
   "execution_count": null,
   "metadata": {},
   "outputs": [],
   "source": [
    "figName = 'Fig6_4'\n",
    "\n",
    "# graphic aspect ratio = width/height\n",
    "\n",
    "aspect = 4.0/3.0 # 4:3\n",
    "\n",
    "# Text width in inches - don't change, this is defined by the print layout\n",
    "\n",
    "textWidth = 6.0 # inches\n",
    "\n",
    "# output format and resolution\n",
    "\n",
    "figFmt = 'png'\n",
    "dpi = 600\n",
    "\n",
    "# Graphic dimensions \n",
    "\n",
    "plotWidth = dpi*textWidth\n",
    "plotHeight = plotWidth/aspect\n",
    "axisFontSize = 10\n",
    "labelFontSize = 8\n",
    "lwidth = 0.5\n",
    "axisPad = 5\n",
    "wInches = textWidth \n",
    "hInches = wInches/aspect\n",
    "\n",
    "# Plot filename\n",
    "\n",
    "plotFile = f'{figName}.{figFmt}'\n",
    "\n",
    "# LaTeX is used throughout for markup of symbols, Times-Roman serif font\n",
    "\n",
    "plt.rc('text', usetex=True)\n",
    "plt.rc('font', **{'family':'serif','serif':['Times-Roman'],'weight':'bold','size':'16'})\n",
    "\n",
    "# Font and line weight defaults for axes\n",
    "\n",
    "matplotlib.rc('axes',linewidth=lwidth)\n",
    "matplotlib.rcParams.update({'font.size':axisFontSize})\n",
    "\n",
    "# axis and label padding\n",
    "\n",
    "plt.rcParams['xtick.major.pad'] = f'{axisPad}'\n",
    "plt.rcParams['ytick.major.pad'] = f'{axisPad}'\n",
    "plt.rcParams['axes.labelpad'] = f'{axisPad}'\n"
   ]
  },
  {
   "cell_type": "markdown",
   "metadata": {},
   "source": [
    "## Silicon index of refraction\n",
    "\n",
    "Data from Green 1980...\n",
    "\n",
    "Data are multicolumn ASCII text with # comments and a data header.  We use\n",
    " * lamr - wavelength in $\\mu$m for n$_r$\n",
    " * nr - real part of the index of refraction (n$_r$)\n",
    " * lami - wavelength in $\\mu$m for n$_i$\n",
    " * ni - imaginary part of the index of refraction (n$_i$)\n"
   ]
  },
  {
   "cell_type": "code",
   "execution_count": null,
   "metadata": {},
   "outputs": [],
   "source": [
    "dataFile = 'Green2008_Si300K.txt'\n",
    "\n",
    "# data file has a text header, colhead1  colhead2 ... colheadN\n",
    "\n",
    "data = pd.read_csv(dataFile,sep=r'\\s+',comment='#')\n",
    "\n",
    "lamr = np.array(data['lamr'])\n",
    "nr = np.array(data['nr'])\n",
    "\n",
    "lami = np.array(data['lami'])\n",
    "ni = np.array(data['ni'])\n"
   ]
  },
  {
   "cell_type": "markdown",
   "metadata": {},
   "source": [
    "## Plot the refraction index\n",
    "\n",
    "Real part as a solid line, imaginary part as a dotted line, labeled."
   ]
  },
  {
   "cell_type": "code",
   "execution_count": null,
   "metadata": {},
   "outputs": [],
   "source": [
    "xMin = 0.2 # microns\n",
    "xMax = 1.45\n",
    "yMin = -0.01\n",
    "yMax = 7.5\n",
    "\n",
    "fig,ax = plt.subplots(figsize=(wInches,hInches),dpi=dpi)\n",
    "\n",
    "ax.tick_params('both',length=6,width=lwidth,which='major',direction='in',top='on',right='on')\n",
    "ax.tick_params('both',length=3,width=lwidth,which='minor',direction='in',top='on',right='on')\n",
    "\n",
    "# Limits\n",
    "\n",
    "ax.set_xlim(xMin,xMax)\n",
    "ax.xaxis.set_major_locator(MultipleLocator(0.2))\n",
    "ax.xaxis.set_minor_locator(MultipleLocator(0.1))\n",
    "ax.set_xlabel(r'$\\lambda$ [$\\mu$m]',fontsize=axisFontSize)\n",
    "\n",
    "ax.set_ylim(yMin,yMax)\n",
    "ax.yaxis.set_major_locator(MultipleLocator(1))\n",
    "ax.yaxis.set_minor_locator(MultipleLocator(0.5))\n",
    "ax.set_ylabel(r'Index of refraction',fontsize=axisFontSize)\n",
    "\n",
    "# Real part\n",
    "\n",
    "ax.plot(lamr,nr,'-',color='black',lw=1.2,zorder=10)\n",
    "ax.text(0.41,6.0,r'Real ($n_{\\rm r}$)',fontsize=labelFontSize,ha='left',color='black')\n",
    "\n",
    "# imaginary part\n",
    "\n",
    "ax.plot(lami,ni,':',color='black',lw=1.2,zorder=10)\n",
    "ax.text(0.38,2.5,r'Imaginary ($n_{\\rm i}$)',fontsize=labelFontSize,ha='left',color='black')\n",
    "\n",
    "plt.plot()\n",
    "plt.savefig(plotFile,bbox_inches='tight',facecolor='white')"
   ]
  }
 ],
 "metadata": {
  "kernelspec": {
   "display_name": "Python 3 (ipykernel)",
   "language": "python",
   "name": "python3"
  },
  "language_info": {
   "codemirror_mode": {
    "name": "ipython",
    "version": 3
   },
   "file_extension": ".py",
   "mimetype": "text/x-python",
   "name": "python",
   "nbconvert_exporter": "python",
   "pygments_lexer": "ipython3",
   "version": "3.9.7"
  }
 },
 "nbformat": 4,
 "nbformat_minor": 2
}
