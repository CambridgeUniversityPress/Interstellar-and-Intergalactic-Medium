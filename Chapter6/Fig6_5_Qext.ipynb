{
 "cells": [
  {
   "cell_type": "markdown",
   "metadata": {},
   "source": [
    "# Extinction Efficiency Factor\n",
    "\n",
    "Figure 6.5 from Chapter 6 of *Interstellar and Intergalactic Medium* by Ryden & Pogge, 2021, \n",
    "Cambridge University Press.\n",
    "\n",
    "Plot the efficiency factor Q$_{ext}$ for two values of the real index of refraction, $n_r=1.5$ (glass) and \n",
    "$n_r=1.33$ (water ice).\n",
    "\n",
    "Uses van de Hulst's method to compute Mie scattering in the astrophysically interesting limit that the\n",
    "spherical scatterer is large compared to the wavelength of light ($2\\pi a >> \\lambda$) and only moderately\n",
    "refractive and absorptive at wavelengths of interest ($|n-1|<1$).  In this limit, the solution for the pure\n",
    "scattering case yeilds an efficiency factor\n",
    "\\begin{equation}\n",
    "   Q_{ext} = Q_{sca}\\approx 2-\\frac{4}{\\varrho}\\sin\\varrho + \\frac{4}{\\varrho^2}(1-\\cos\\varrho)\n",
    "\\end{equation}\n",
    "where\n",
    "\\begin{equation}\n",
    "   \\varrho = 2\\left(\\frac{2\\pi a}{\\lambda}\\right)|n_r-1|\n",
    "\\end{equation}\n",
    "in the short-wavelength limit this function approaches the limiting value of $Q_{ext}=2.0$."
   ]
  },
  {
   "cell_type": "code",
   "execution_count": null,
   "metadata": {},
   "outputs": [],
   "source": [
    "%matplotlib inline\n",
    "\n",
    "import os\n",
    "import sys\n",
    "import math\n",
    "import numpy as np\n",
    "import matplotlib\n",
    "import matplotlib.pyplot as plt\n",
    "from matplotlib.ticker import MultipleLocator, LogLocator, NullFormatter\n",
    "\n",
    "import warnings\n",
    "warnings.filterwarnings('ignore',category=UserWarning, append=True)"
   ]
  },
  {
   "cell_type": "markdown",
   "metadata": {},
   "source": [
    "## Standard Plot Format\n",
    "\n",
    "Setup the standard plotting format and make the plot. Fonts and resolution adopted follow CUP style."
   ]
  },
  {
   "cell_type": "code",
   "execution_count": null,
   "metadata": {},
   "outputs": [],
   "source": [
    "figName = 'Fig6_5' \n",
    "\n",
    "# graphic aspect ratio = width/height\n",
    "\n",
    "aspect = 4.0/3.0 # 4:3\n",
    "\n",
    "# Text width in inches - don't change, this is defined by the print layout\n",
    "\n",
    "textWidth = 6.0 # inches\n",
    "\n",
    "# output format and resolution\n",
    "\n",
    "figFmt = 'png'\n",
    "dpi = 600\n",
    "\n",
    "# Graphic dimensions \n",
    "\n",
    "plotWidth = dpi*textWidth\n",
    "plotHeight = plotWidth/aspect\n",
    "axisFontSize = 10\n",
    "labelFontSize = 6\n",
    "lwidth = 0.5\n",
    "axisPad = 5\n",
    "wInches = textWidth \n",
    "hInches = wInches/aspect\n",
    "\n",
    "# Plot filename\n",
    "\n",
    "plotFile = f'{figName}.{figFmt}'\n",
    "\n",
    "# LaTeX is used throughout for markup of symbols, Times-Roman serif font\n",
    "\n",
    "plt.rc('text', usetex=True)\n",
    "plt.rc('font', **{'family':'serif','serif':['Times-Roman'],'weight':'bold','size':'16'})\n",
    "\n",
    "# Font and line weight defaults for axes\n",
    "\n",
    "matplotlib.rc('axes',linewidth=lwidth)\n",
    "matplotlib.rcParams.update({'font.size':axisFontSize})\n",
    "\n",
    "# axis and label padding\n",
    "\n",
    "plt.rcParams['xtick.major.pad'] = f'{axisPad}'\n",
    "plt.rcParams['ytick.major.pad'] = f'{axisPad}'\n",
    "plt.rcParams['axes.labelpad'] = f'{axisPad}'"
   ]
  },
  {
   "cell_type": "markdown",
   "metadata": {},
   "source": [
    "## Scattering Efficiency Factor\n",
    "\n",
    "\n",
    "Do the computation for real two indices of refraction\n",
    " * $n_r=1.5$ - typical of glass (fused silica) at visible wavelengths\n",
    " * $n_r=1.33$ - typical of pure water ice at visible wavelenths\n",
    " \n",
    "parameterize using $x=2\\pi a/\\lambda$."
   ]
  },
  {
   "cell_type": "code",
   "execution_count": null,
   "metadata": {},
   "outputs": [],
   "source": [
    "# Range of x\n",
    "\n",
    "xMin = 0.01\n",
    "xMax = 14.0\n",
    "x = np.linspace(xMin,xMax,501)\n",
    "\n",
    "yMin = 0.0\n",
    "yMax = 4.0\n",
    "\n",
    "# glass (fused silica)\n",
    "\n",
    "nr = 1.5\n",
    "rho = 2.0*x*(nr-1.0)\n",
    "Qext1 = 2.0 - (4.0/rho)*np.sin(rho)+(4.0/(rho*rho))*(1-np.cos(rho))\n",
    "\n",
    "# pure water ice \n",
    "\n",
    "nr = 1.33\n",
    "rho = 2.0*x*(nr-1.0)\n",
    "Qext2 = 2.0 - (4.0/rho)*np.sin(rho)+(4.0/(rho*rho))*(1-np.cos(rho))"
   ]
  },
  {
   "cell_type": "markdown",
   "metadata": {},
   "source": [
    "## Make the plot\n",
    "\n",
    "Plot $n_r$=1.5 (glass) as a solid line, $n_r$=1.33 (ice) as a dotted line, with $Q_{ext}$=2.0 for reference\n",
    "(see text)."
   ]
  },
  {
   "cell_type": "code",
   "execution_count": null,
   "metadata": {},
   "outputs": [],
   "source": [
    "fig,ax = plt.subplots()\n",
    "\n",
    "fig.set_dpi(dpi)\n",
    "fig.set_size_inches(wInches,hInches,forward=True)\n",
    "\n",
    "ax.tick_params('both',length=6,width=lwidth,which='major',direction='in',top='on',right='on')\n",
    "ax.tick_params('both',length=3,width=lwidth,which='minor',direction='in',top='on',right='on')\n",
    "\n",
    "# Limits\n",
    "\n",
    "plt.xlim(xMin,xMax)\n",
    "ax.xaxis.set_major_locator(MultipleLocator(2))\n",
    "ax.xaxis.set_minor_locator(MultipleLocator(1))\n",
    "plt.xlabel(r'$x=2\\pi a/\\lambda$',fontsize=axisFontSize)\n",
    "\n",
    "plt.ylim(yMin,yMax)\n",
    "ax.yaxis.set_major_locator(MultipleLocator(1))\n",
    "ax.yaxis.set_minor_locator(MultipleLocator(0.5))\n",
    "plt.ylabel(r'Q$_{\\rm ext}$',fontsize=axisFontSize)\n",
    "\n",
    "# glass (nr=1.5)\n",
    "\n",
    "plt.plot(x,Qext1,'-',color='black',lw=1.0,zorder=10)\n",
    "plt.text(4.0,3.2,r'$n_{r}$=1.5',fontsize=axisFontSize,ha='right',color='black')\n",
    "\n",
    "# ice (nr=1.33)\n",
    "\n",
    "plt.plot(x,Qext2,':',color='black',lw=1.0,zorder=10)\n",
    "plt.text(7.5,3.0,r'$n_{r}$=1.33',fontsize=axisFontSize,ha='left',color='black')\n",
    "\n",
    "# large x asymptote at Qext=2\n",
    "\n",
    "plt.hlines(2.0,xMin,xMax,ls='--',color='black',lw=0.5,zorder=8)\n",
    "\n",
    "plt.plot()\n",
    "plt.savefig(plotFile,bbox_inches='tight',facecolor='white')"
   ]
  }
 ],
 "metadata": {
  "kernelspec": {
   "display_name": "Python 3",
   "language": "python",
   "name": "python3"
  },
  "language_info": {
   "codemirror_mode": {
    "name": "ipython",
    "version": 3
   },
   "file_extension": ".py",
   "mimetype": "text/x-python",
   "name": "python",
   "nbconvert_exporter": "python",
   "pygments_lexer": "ipython3",
   "version": "3.8.5"
  }
 },
 "nbformat": 4,
 "nbformat_minor": 2
}
