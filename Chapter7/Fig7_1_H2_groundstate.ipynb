{
 "cells": [
  {
   "cell_type": "markdown",
   "metadata": {},
   "source": [
    "# Molecular Hydrogen H<sub>2</sub> Ground State\n",
    "\n",
    "Figure 7.1 from Chapter 7 of *Interstellar and Intergalactic Medium* by Ryden & Pogge, 2021, \n",
    "Cambridge University Press.\n",
    "\n",
    "Plot the ground state potential of the H<sub>2</sub> molecule (E vs R) and the bound vibration levels.\n",
    "\n",
    "Uses files with the H<sub>2</sub> potential curves tabulated by [Sharp, 1971, Atomic Data, 2, 119](https://ui.adsabs.harvard.edu/abs/1971AD......2..119S/abstract).\n",
    "\n",
    "All of the data files used are in the H2 subfolder that should accompany this notebook."
   ]
  },
  {
   "cell_type": "code",
   "execution_count": null,
   "metadata": {},
   "outputs": [],
   "source": [
    "%matplotlib inline\n",
    "\n",
    "import math\n",
    "import numpy as np\n",
    "import pandas as pd\n",
    "import matplotlib\n",
    "import matplotlib.pyplot as plt\n",
    "from matplotlib.ticker import MultipleLocator, LogLocator, NullFormatter\n",
    "\n",
    "import warnings\n",
    "warnings.filterwarnings('ignore',category=UserWarning, append=True)"
   ]
  },
  {
   "cell_type": "markdown",
   "metadata": {},
   "source": [
    "## Standard Plot Format\n",
    "\n",
    "Setup the standard plotting format and make the plot. Fonts and resolution adopted follow CUP style."
   ]
  },
  {
   "cell_type": "code",
   "execution_count": null,
   "metadata": {},
   "outputs": [],
   "source": [
    "figName = 'Fig7_1' \n",
    "\n",
    "# graphic aspect ratio = width/height\n",
    "\n",
    "aspect = 4.0/3.0 # 4:3\n",
    "\n",
    "# Text width in inches - don't change, this is defined by the print layout\n",
    "\n",
    "textWidth = 6.0 # inches\n",
    "\n",
    "# output format and resolution\n",
    "\n",
    "figFmt = 'png'\n",
    "dpi = 600\n",
    "\n",
    "# Graphic dimensions \n",
    "\n",
    "plotWidth = dpi*textWidth\n",
    "plotHeight = plotWidth/aspect\n",
    "axisFontSize = 10\n",
    "labelFontSize = 8\n",
    "lwidth = 0.5\n",
    "axisPad = 5\n",
    "wInches = textWidth \n",
    "hInches = wInches/aspect\n",
    "\n",
    "# Plot filename\n",
    "\n",
    "plotFile = f'{figName}.{figFmt}'\n",
    "\n",
    "# LaTeX is used throughout for markup of symbols, Times-Roman serif font\n",
    "\n",
    "plt.rc('text', usetex=True)\n",
    "plt.rc('font', **{'family':'serif','serif':['Times-Roman'],'weight':'bold','size':'16'})\n",
    "\n",
    "# Font and line weight defaults for axes\n",
    "\n",
    "matplotlib.rc('axes',linewidth=lwidth)\n",
    "matplotlib.rcParams.update({'font.size':axisFontSize})\n",
    "\n",
    "# axis and label padding\n",
    "\n",
    "plt.rcParams['xtick.major.pad'] = f'{axisPad}'\n",
    "plt.rcParams['ytick.major.pad'] = f'{axisPad}'\n",
    "plt.rcParams['axes.labelpad'] = f'{axisPad}'"
   ]
  },
  {
   "cell_type": "markdown",
   "metadata": {},
   "source": [
    "## H<sub>2</sub> energy level potential data \n",
    "\n",
    "H$_2$ $^{1}\\Sigma_{g}^{+}$ ground state data from Sharp 1971:\n",
    "\n",
    "Potential curve: H2_1Sigma_g+_potl.dat:\n",
    " * interproton distance, r, in Angstroms\n",
    " * potential energy, V(r), in eV\n",
    " \n",
    "Vibrational levels: H2_1Sigma_g+_v.dat:\n",
    " * v = vibrational quantum number\n",
    " * eV = energy in eV\n",
    " * Rmin = minimum inter-proton distance in Angstroms\n",
    " * Rmax = maximum inter-proton distance in Angstroms"
   ]
  },
  {
   "cell_type": "code",
   "execution_count": null,
   "metadata": {},
   "outputs": [],
   "source": [
    "potlFile = './H2/H2_1Sigma_g+_potl.dat'\n",
    "vibFile = './H2/H2_1Sigma_g+_v.dat'\n",
    "\n",
    "data = pd.read_csv(potlFile,sep=r'\\s+')\n",
    "gsR = np.array(data['R'])   # radius in Angstroms\n",
    "gsE = np.array(data['eV'])  # energy in eV\n",
    "\n",
    "data = pd.read_csv(vibFile,sep=r'\\s+')\n",
    "v = np.array(data['v'])   # vibrational quantum number\n",
    "vE = np.array(data['eV'])\n",
    "rMin = np.array(data['Rmin'])\n",
    "rMax = np.array(data['Rmax'])\n",
    "\n",
    "# plotting limits\n",
    "\n",
    "minR = 0.0\n",
    "maxR = 5.0\n",
    "minE = -0.5\n",
    "maxE = 6.0\n",
    "\n",
    "# Put labels on the vibrational levels?\n",
    "\n",
    "label_v = True"
   ]
  },
  {
   "cell_type": "markdown",
   "metadata": {},
   "source": [
    "### Make the Plot\n",
    "\n",
    "Plot the ground-state potential curve as a thick black line, then draw the vibrational energy levels."
   ]
  },
  {
   "cell_type": "code",
   "execution_count": null,
   "metadata": {},
   "outputs": [],
   "source": [
    "fig,ax = plt.subplots()\n",
    "\n",
    "fig.set_dpi(dpi)\n",
    "fig.set_size_inches(wInches,hInches,forward=True)\n",
    "\n",
    "ax.tick_params('both',length=6,width=lwidth,which='major',direction='in',top='on',right='on')\n",
    "ax.tick_params('both',length=3,width=lwidth,which='minor',direction='in',top='on',right='on')\n",
    "\n",
    "\n",
    "plt.xlim(minR,maxR)\n",
    "ax.xaxis.set_major_locator(MultipleLocator(1))\n",
    "plt.xlabel(r'Distance between protons r [\\AA]',fontsize=axisFontSize)\n",
    "\n",
    "plt.ylim(minE,maxE)\n",
    "ax.yaxis.set_major_locator(MultipleLocator(1.0))\n",
    "plt.ylabel(r'Potential energy V(r) [eV]',fontsize=axisFontSize)\n",
    "\n",
    "# plot the curves\n",
    "\n",
    "plt.plot(gsR,gsE,'-',color='black',lw=1.5,zorder=10)\n",
    "\n",
    "for i in range(len(v)):\n",
    "    plt.plot([rMin[i],rMax[i]],[vE[i],vE[i]],'-',color='black',lw=0.5,zorder=9)\n",
    "    if v[i]==0:\n",
    "        plt.text(rMin[i]-0.05,vE[i],rf'$v={v[i]}$',ha='right',va='center',fontsize=labelFontSize)\n",
    "    elif v[i]==13:\n",
    "        plt.text(rMin[i]-0.05,vE[i],rf'${v[i]}$',ha='right',va='center',fontsize=labelFontSize)\n",
    "\n",
    "# plot and file\n",
    "\n",
    "plt.plot()\n",
    "plt.savefig(plotFile,bbox_inches='tight',facecolor='white')"
   ]
  }
 ],
 "metadata": {
  "kernelspec": {
   "display_name": "Python 3",
   "language": "python",
   "name": "python3"
  },
  "language_info": {
   "codemirror_mode": {
    "name": "ipython",
    "version": 3
   },
   "file_extension": ".py",
   "mimetype": "text/x-python",
   "name": "python",
   "nbconvert_exporter": "python",
   "pygments_lexer": "ipython3",
   "version": "3.8.5"
  }
 },
 "nbformat": 4,
 "nbformat_minor": 2
}
