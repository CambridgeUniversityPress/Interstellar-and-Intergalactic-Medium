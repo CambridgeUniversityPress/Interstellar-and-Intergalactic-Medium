{
 "cells": [
  {
   "cell_type": "markdown",
   "metadata": {},
   "source": [
    "# Planck 2015 WCO Map\n",
    "\n",
    "Figure 7.3 from Chapter 7 of *Interstellar and Intergalactic Medium* by Ryden & Pogge, 2021, \n",
    "Cambridge University Press.\n",
    "\n",
    "Plots a Mollweide projection of the Planck 2015 all-sky WCO Map from\n",
    "[Adam et al. 2016, A&A, 594, 10](https://ui.adsabs.harvard.edu/abs/2016A%26A...594A..10P/abstract).\n",
    "\n",
    "We are using the [ESA Planck Legacy Archive](https://wiki.cosmos.esa.int/planck-legacy-archive) data,\n",
    "specifically the [ESA Planck 2015 COMMANDER version](https://wiki.cosmos.esa.int/planckpla2015/index.php/CMB_and_astrophysical_component_maps#CO_line_emission) \n",
    "in HEALPix format, plotting the CO(1-0) amplitude posterior maximum in units $K_R\\,km\\,s^{-1}$.\n",
    "\n",
    "This notebook requires that your computer has the [healpy package](https://healpy.readthedocs.io/en/latest/)\n",
    "installed."
   ]
  },
  {
   "cell_type": "code",
   "execution_count": null,
   "metadata": {},
   "outputs": [],
   "source": [
    "%matplotlib inline\n",
    "\n",
    "import matplotlib\n",
    "import matplotlib.pyplot as plt\n",
    "from matplotlib.ticker import MultipleLocator, LogLocator, NullFormatter\n",
    "\n",
    "import numpy as np\n",
    "import healpy as hp\n",
    "\n",
    "import warnings\n",
    "warnings.filterwarnings('ignore',category=UserWarning, append=True)"
   ]
  },
  {
   "cell_type": "markdown",
   "metadata": {},
   "source": [
    "## Standard Plot Format\n",
    "\n",
    "Setup the standard plotting format and make the plot. Fonts and resolution adopted follow CUP style."
   ]
  },
  {
   "cell_type": "code",
   "execution_count": null,
   "metadata": {},
   "outputs": [],
   "source": [
    "figName = 'Fig7_3' \n",
    "\n",
    "# graphic aspect ratio = width/height\n",
    "\n",
    "aspect = 4.0/3.0 # 4:3\n",
    "\n",
    "# Text width in inches - don't change, this is defined by the print layout\n",
    "\n",
    "textWidth = 6.0 # inches\n",
    "\n",
    "# output format and resolution\n",
    "\n",
    "figFmt = 'png'\n",
    "dpi = 600\n",
    "\n",
    "# Graphic dimensions \n",
    "\n",
    "plotWidth = dpi*textWidth\n",
    "plotHeight = plotWidth/aspect\n",
    "axisFontSize = 10\n",
    "labelFontSize = 6\n",
    "lwidth = 0.5\n",
    "axisPad = 5\n",
    "wInches = textWidth \n",
    "hInches = wInches/aspect\n",
    "\n",
    "# Plot filename\n",
    "\n",
    "plotFile = f'{figName}.{figFmt}'\n",
    "\n",
    "# LaTeX is used throughout for markup of symbols, Times-Roman serif font\n",
    "\n",
    "plt.rc('text', usetex=True)\n",
    "plt.rc('font', **{'family':'serif','serif':['Times-Roman'],'weight':'bold','size':'16'})\n",
    "\n",
    "# Font and line weight defaults for axes\n",
    "\n",
    "matplotlib.rc('axes',linewidth=lwidth)\n",
    "matplotlib.rcParams.update({'font.size':axisFontSize})\n",
    "\n",
    "# axis and label padding\n",
    "\n",
    "plt.rcParams['xtick.major.pad'] = f'{axisPad}'\n",
    "plt.rcParams['ytick.major.pad'] = f'{axisPad}'\n",
    "plt.rcParams['axes.labelpad'] = f'{axisPad}'"
   ]
  },
  {
   "cell_type": "markdown",
   "metadata": {},
   "source": [
    "## Planck 2015 CO(1-0) amplitude map (Adam et al, 2016)\n",
    "\n",
    "Planck 2015 CO Map from\n",
    "[Adam et al. 2016, A&A, 594, 10](https://ui.adsabs.harvard.edu/abs/2016A%26A...594A..10P/abstract).  The\n",
    "intensity scale runs from 0.1 to 300$\\,K_R\\,km\\,s^{-1}$ on a logarithmic scale."
   ]
  },
  {
   "cell_type": "code",
   "execution_count": null,
   "metadata": {},
   "outputs": [],
   "source": [
    "mapFile = 'COM_CompMap_CO-commander_0256_R2.00.fits'\n",
    "\n",
    "# read the HEALPix format map\n",
    "\n",
    "wcoMap = hp.read_map(mapFile,field=0)\n",
    "\n",
    "# Make the plot\n",
    "\n",
    "fig,ax = plt.subplots()\n",
    "fig.set_dpi(dpi)\n",
    "fig.set_size_inches(wInches,hInches,forward=True)\n",
    "plt.axes(ax)\n",
    "hp.mollview(wcoMap,min=0.1,max=300,norm='log',cmap='Greys',cbar=False,xsize=2048,\n",
    "            title=None,hold=True,return_projected_map=True,badcolor='white')\n",
    "\n",
    "hp.graticule(360,360,lw=0) # tricks it into drawing a border but no meridians or parallels\n",
    "\n",
    "plt.plot()\n",
    "plt.savefig(plotFile,bbox_inches='tight',facecolor='white')"
   ]
  }
 ],
 "metadata": {
  "kernelspec": {
   "display_name": "Python 3",
   "language": "python",
   "name": "python3"
  },
  "language_info": {
   "codemirror_mode": {
    "name": "ipython",
    "version": 3
   },
   "file_extension": ".py",
   "mimetype": "text/x-python",
   "name": "python",
   "nbconvert_exporter": "python",
   "pygments_lexer": "ipython3",
   "version": "3.8.5"
  }
 },
 "nbformat": 4,
 "nbformat_minor": 4
}
