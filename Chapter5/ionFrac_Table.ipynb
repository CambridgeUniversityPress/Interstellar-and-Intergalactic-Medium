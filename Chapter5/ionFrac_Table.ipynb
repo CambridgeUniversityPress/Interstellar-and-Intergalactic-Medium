{
 "cells": [
  {
   "cell_type": "markdown",
   "metadata": {},
   "source": [
    "# Ionization Fraction Tables\n",
    "\n",
    "Create ASCII text tables of ion fractions for a given species in collisional ionization equilibrium (CIE).\n",
    "Uses data from the [CHIANTI atomic database](https://www.chiantidatabase.org/) and the \n",
    "[ChiantiPy](https://github.com/chianti-atomic/ChiantiPy/) module to compute ionization fractions in CIE.\n",
    "\n",
    "These files may be used as ancillary data for the ISM/IGM book if it is impractical to install CHIANTI\n",
    "and ChiantiPy.  Tables have a brief comment block followed by a header that is readily parsed using pandas.\n",
    "\n",
    "CHIANTI is a collaborative project involving George Mason University, the University of Michigan (USA),\n",
    "University of Cambridge (UK) and NASA Goddard Space Flight Center (USA). "
   ]
  },
  {
   "cell_type": "code",
   "execution_count": null,
   "metadata": {},
   "outputs": [],
   "source": [
    "import math\n",
    "import numpy as np\n",
    "\n",
    "# Throttle nuisance warnings\n",
    "\n",
    "import warnings\n",
    "warnings.filterwarnings('ignore',category=UserWarning, append=True)\n",
    "\n",
    "# Chianti CIE code \n",
    "\n",
    "import ChiantiPy.core as ch"
   ]
  },
  {
   "cell_type": "markdown",
   "metadata": {},
   "source": [
    "## Useful Definitions\n",
    "\n",
    "### int2roman()\n",
    "\n",
    "Function to convert an integer into a roman numeral string.\n",
    "\n",
    "### species\n",
    "\n",
    "List of the elements associated with nuclear charge Z-1 from hydrogen to nickel.\n"
   ]
  },
  {
   "cell_type": "code",
   "execution_count": null,
   "metadata": {},
   "outputs": [],
   "source": [
    "def int2roman(integer):\n",
    "    table = [['M',1000],['CM',900],['D',500],['CD',400],['C',100],\n",
    "             ['XC',90],['L',50],['XL',40],['X',10],['IX',9],\n",
    "             ['V',5],['IV',4],['I',1]]\n",
    "    parts = []\n",
    "    for letter, value in table:\n",
    "        while value <= integer:\n",
    "            integer -= value\n",
    "            parts.append(letter)\n",
    "    return ''.join(parts)\n",
    "\n",
    "species = ['H','He','Li','Be','B','C','N','O','F','Ne','Na','Mg','Al',\n",
    "           'Si','P','S','Cl','Ar','K','Ca','Sc','Ti','V','Cr','Mn','Fe',\n",
    "           'Co','Ni']"
   ]
  },
  {
   "cell_type": "markdown",
   "metadata": {},
   "source": [
    "## Ionization Fractions Table\n",
    "\n",
    "Change the nuclear charge Z to make a quick table of ionic fraction for each ionization stage of a species.\n",
    "\n",
    "Prints a brief comment (#) block giving the provenance, a simple header of logT plus the roman numeral of\n",
    "the ionic stage, and then creates an ASCII text file named 'ionFrac_x.txt', where x is the species \n",
    "(e.g., ionFrac_C.txt for carbon).\n",
    "\n",
    "In this example we compute the ion fractions of Nitrogen (Z=7)."
   ]
  },
  {
   "cell_type": "code",
   "execution_count": null,
   "metadata": {},
   "outputs": [],
   "source": [
    "# Nuclear charge\n",
    "\n",
    "Z = 7\n",
    "\n",
    "# Range of temperatures\n",
    "\n",
    "minT = 9000. # K\n",
    "maxT = 1.0e7 # K\n",
    "\n",
    "minLogT = math.log10(minT)\n",
    "maxLogT = math.log10(maxT)\n",
    "dlogT = 0.01\n",
    "numT = 1+int((maxLogT-minLogT)/dlogT)\n",
    "logT = np.linspace(minLogT,maxLogT,num=numT)\n",
    "\n",
    "T = 10.0**logT # temperature (K)\n",
    "\n",
    "outFile = f'ionFrac_{species[Z-1]}.txt'\n",
    "f = open(outFile,'w')\n",
    "\n",
    "# put in a comment header\n",
    "\n",
    "f.write(f'#\\n')\n",
    "f.write(f'# Ionization fraction vs T for {species[Z-1]}\\n')\n",
    "f.write(f'#   logT = {logT[0]:.2f} to {logT[-1]:.2f}\\n')\n",
    "f.write(f'# Calculated using the CHIANTI atomic database and ChiantiPy\\n')\n",
    "f.write(f'#\\n')\n",
    "\n",
    "cie = ch.ioneq(Z)\n",
    "cie.load('chianti')  # default CHIANTI database\n",
    "cie.calculate(T)\n",
    "\n",
    "outStr = 'logT  '\n",
    "for stage in range(Z+1):\n",
    "    outStr += f'{int2roman(stage+1):6s} '\n",
    "f.write(f'{outStr}\\n')\n",
    "\n",
    "for i in range(len(logT)):\n",
    "    outStr = f'{logT[i]:.2f} '\n",
    "    for j in range(Z+1):\n",
    "        outStr += f'{cie.Ioneq[j][i]:.4f} '\n",
    "    f.write(f'{outStr}\\n')\n",
    "    \n",
    "f.close()"
   ]
  },
  {
   "cell_type": "markdown",
   "metadata": {},
   "source": [
    "## How to read an ionFrac_x file\n",
    "\n",
    "Code stub showing how to read in data from an ionFrac_x.txt file created with the code above using the pandas\n",
    "read_csv() method."
   ]
  },
  {
   "cell_type": "code",
   "execution_count": null,
   "metadata": {},
   "outputs": [],
   "source": [
    "import pandas as pd\n",
    "\n",
    "dataFile = 'ionFrac_x.txt'\n",
    "\n",
    "# data file has a text header\n",
    "#   logT, I, II, ... \n",
    "\n",
    "data = pd.read_csv(dataFile,sep=r'\\s+',comment='#')\n",
    "\n",
    "myLogT = np.array(data['logT'])\n",
    "stageII = np.array(data['II'])\n",
    "stageV = np.array(data['V'])"
   ]
  }
 ],
 "metadata": {
  "kernelspec": {
   "display_name": "Python 3",
   "language": "python",
   "name": "python3"
  },
  "language_info": {
   "codemirror_mode": {
    "name": "ipython",
    "version": 3
   },
   "file_extension": ".py",
   "mimetype": "text/x-python",
   "name": "python",
   "nbconvert_exporter": "python",
   "pygments_lexer": "ipython3",
   "version": "3.8.5"
  }
 },
 "nbformat": 4,
 "nbformat_minor": 2
}
