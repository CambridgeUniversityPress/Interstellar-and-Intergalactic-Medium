{
 "cells": [
  {
   "cell_type": "markdown",
   "metadata": {},
   "source": [
    "# Simulated X-ray Spectrum of Gas in CIE\n",
    "\n",
    "Simulated X-ray spectrum of solar abundance low-density ($n_e$=0.004), hot (T=10$^6$K) gas in collisional\n",
    "ionization equilibrium (CIE). Ionic species responsible for various emission lines are labeled. Wavelengths\n",
    "range from 150 to 250 Angstroms in steps of 0.5 Angstroms.\n",
    "\n",
    "This notebook uses ChiantiPy to compute the spectrum data plotted by Fig5_8_XRaySpectrum.ipynb.  This notebook\n",
    "may be used, for example, to explore other values of temperature, density, and emission measure\n",
    "than used for Figure 5.8.\n",
    "\n",
    "To keep you from accidentally ovewriting the data file used by the notebook for Figure 5.8, we've named the\n",
    "output spectrum file \"mySpectrum.txt\".\n",
    "\n",
    "You will need to install the latest versions of ChiantiPy and the CHIANTI atomic database - available separately -\n",
    "before you can use this notebook, and the versions of each must be compatible. At the time of this notebook's\n",
    "release, we tested it with ChiantiPy version 0.9.5 and CHIANTI version 10.0. See the caveat below.\n",
    "\n",
    "**This notebook only computes the spectrum, it does not plot it.**  The calculation takes many minutes to \n",
    "complete.\n",
    "\n",
    "\n",
    "## Caveat\n",
    "\n",
    "ChiantiPy and CHIANTI must both be installed on your system and uptodate to run this notebook. Exceptions\n",
    "raised because of missing files are often due to having updated ChiantiPy but not the full CHIANTI database.\n",
    "Being diligent about keeping the two in-sync is part of using Chianti.\n",
    "\n",
    "### CHIANTI citation\n",
    "\n",
    "CHIANTI is a collaborative project involving George Mason University, the University of Michigan (USA),\n",
    "University of Cambridge (UK) and NASA Goddard Space Flight Center (USA). "
   ]
  },
  {
   "cell_type": "code",
   "execution_count": 3,
   "metadata": {},
   "outputs": [],
   "source": [
    "import math\n",
    "import numpy as np\n",
    "\n",
    "# Throttle nuisance warnings\n",
    "\n",
    "import warnings\n",
    "warnings.filterwarnings('ignore',category=UserWarning, append=True)\n",
    "\n",
    "# Chianti CIE code \n",
    "\n",
    "import ChiantiPy.core as ch\n",
    "import ChiantiPy.tools.filters as cf"
   ]
  },
  {
   "cell_type": "markdown",
   "metadata": {},
   "source": [
    "## Calculate a simulated spectrum\n",
    "\n",
    "Compute the X-ray spectrum of a CIE plasma with these parameters:\n",
    " * Temperature: T=10<sup>6</sup>\n",
    " * Electron density: n$_e$=0.004 cm$^{-3}$\n",
    " * Emission Measure: EM=10<sup>25</sup>.\n",
    "\n",
    "The spectrum is calculated for wavelengths from 150 to 270 Angstroms in 0.5 Angstrom steps.\n",
    "\n",
    "The minimum abundance species to use for the calculation is set to **minAbund=2e-5**, which adds N, Mg, Si,\n",
    "S, and Fe to the calculation (set this to 1e-4 to include just H, He, C, O, and Ne).  Setting minAbund\n",
    "to 1e-6 will add Na, Al, Ar, Ca, and Ni, but the computation time required can be very long.\n",
    "\n",
    "Elapsed computation time with minAbund=2e-5 was ~200 seconds for us, your performance will likely differ."
   ]
  },
  {
   "cell_type": "code",
   "execution_count": 4,
   "metadata": {},
   "outputs": [
    {
     "name": "stdout",
     "output_type": "stream",
     "text": [
      " elapsed seconds =      212.000\n"
     ]
    }
   ],
   "source": [
    "# plasma parameters\n",
    "\n",
    "T = 1.0e+6   # plasma temperature in Kelvin\n",
    "ne = 0.004   # electron density in cm^-3, typical of the local HIM bubble\n",
    "em = 1.0e+25 # emission measure \n",
    "\n",
    "# Spectrum parameters\n",
    "\n",
    "minLam = 150.0 # starting wavelength in Angstroms\n",
    "maxLam = 270.0 # ending wavelength in Angstroms\n",
    "lamStep = 0.5  # wavelength step in Angstroms\n",
    "width = lamStep # Gaussian FWHM in Angstroms\n",
    "\n",
    "# Set minAbund low enough to include every species in the database\n",
    "\n",
    "minAbund = 2.e-5\n",
    "\n",
    "# Do the computation...\n",
    "\n",
    "numLam = 1+int((maxLam-minLam)/lamStep)\n",
    "lam = np.linspace(minLam,maxLam,numLam)\n",
    "\n",
    "spec = ch.spectrum(T,ne,lam,filter=(cf.gaussian,width),em=em,minAbund=minAbund)\n",
    "\n",
    "# some individual ions\n",
    "\n",
    "fe9 = ch.ion('fe_9',temperature=T,eDensity=ne)\n",
    "fe9.spectrum(lam,filter=(cf.gaussian,width))\n",
    "\n",
    "fe10 = ch.ion('fe_10',temperature=T,eDensity=ne)\n",
    "fe10.spectrum(lam,filter=(cf.gaussian,width))\n",
    "\n",
    "fe11 = ch.ion('fe_11',temperature=T,eDensity=ne)\n",
    "fe11.spectrum(lam,filter=(cf.gaussian,width))\n",
    "\n",
    "fe12 = ch.ion('fe_12',temperature=T,eDensity=ne)\n",
    "fe12.spectrum(lam,filter=(cf.gaussian,width))\n",
    "\n",
    "s9 = ch.ion('s_9',temperature=T,eDensity=ne)\n",
    "s9.spectrum(lam,filter=(cf.gaussian,width))\n",
    "\n",
    "si9 = ch.ion('si_9',temperature=T,eDensity=ne)\n",
    "si9.spectrum(lam,filter=(cf.gaussian,width))\n",
    "\n",
    "he2 = ch.ion('he_2',temperature=T,eDensity=ne)\n",
    "he2.spectrum(lam,filter=(cf.gaussian,width))\n"
   ]
  },
  {
   "cell_type": "markdown",
   "metadata": {},
   "source": [
    "## Create an ASCII file with the spectrum\n",
    "\n",
    "Multicolumn ASCII-text file with the calculated X-ray spectrum."
   ]
  },
  {
   "cell_type": "code",
   "execution_count": 9,
   "metadata": {},
   "outputs": [],
   "source": [
    "specFile = 'mySpectrum.txt'\n",
    "\n",
    "out = open(specFile,'w')\n",
    "out.write(f'#\\n')\n",
    "out.write(f'# CIE spectrum logT={math.log10(T):.1f}K ne={ne:.3f}/cc EM={em:.1e}\\n')\n",
    "out.write(f'# Calculated using CHIANTI and ChiantiPy\\n')\n",
    "out.write(f'#\\n')\n",
    "\n",
    "out.write('lam     total  fe9    fe10   fe11   fe12   s9     si9    he2\\n')\n",
    "\n",
    "for i, l in enumerate(lam):\n",
    "    outStr = '%6.2f %6.3f %6.3f %6.3f %6.3f %6.3f %6.3f %6.3f %6.3f\\n' % (l,\n",
    "                                                                 spec.Spectrum['integrated'][i],\n",
    "                                                                 fe9.Spectrum['intensity'][i]*em,\n",
    "                                                                 fe10.Spectrum['intensity'][i]*em,\n",
    "                                                                 fe11.Spectrum['intensity'][i]*em,\n",
    "                                                                 fe12.Spectrum['intensity'][i]*em,\n",
    "                                                                 s9.Spectrum['intensity'][i]*em,\n",
    "                                                                 si9.Spectrum['intensity'][i]*em,\n",
    "                                                                 he2.Spectrum['intensity'][i]*em)\n",
    "\n",
    "    out.write(outStr)\n",
    "\n",
    "out.close()"
   ]
  }
 ],
 "metadata": {
  "kernelspec": {
   "display_name": "Python 3",
   "language": "python",
   "name": "python3"
  },
  "language_info": {
   "codemirror_mode": {
    "name": "ipython",
    "version": 3
   },
   "file_extension": ".py",
   "mimetype": "text/x-python",
   "name": "python",
   "nbconvert_exporter": "python",
   "pygments_lexer": "ipython3",
   "version": "3.8.5"
  }
 },
 "nbformat": 4,
 "nbformat_minor": 2
}
