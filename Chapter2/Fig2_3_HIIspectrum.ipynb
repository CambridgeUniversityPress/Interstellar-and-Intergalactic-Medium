{
 "cells": [
  {
   "cell_type": "markdown",
   "metadata": {},
   "source": [
    "# Holmberg II HII Region Spectrum\n",
    "\n",
    "Figure 2.3 from Chapter 2 of *Interstellar and Intergalactic Medium* by Ryden & Pogge, 2021, \n",
    "Cambridge University Press.\n",
    "\n",
    "The emission line spectrum of an HII region in the dwarf galaxy Holmberg II (Ho II). Atom and ion names \n",
    "written in square brackets, such as [O III], refer to forbidden lines.\n",
    "\n",
    "Data were taken with the Multi-Object Double Spectrograph #1 (MODS1) on the Large Binocular Telescope by \n",
    "author R. Pogge and Dr. Kevin Croxall.  Data are in the ASCII text file HoII_MODS1_spec.txt"
   ]
  },
  {
   "cell_type": "code",
   "execution_count": null,
   "metadata": {},
   "outputs": [],
   "source": [
    "%matplotlib inline\n",
    "\n",
    "import math\n",
    "import numpy as np\n",
    "import pandas as pd\n",
    "import matplotlib\n",
    "import matplotlib.pyplot as plt\n",
    "from matplotlib.ticker import MultipleLocator, LogLocator, NullFormatter\n",
    "\n",
    "import warnings\n",
    "warnings.filterwarnings('ignore',category=UserWarning, append=True)"
   ]
  },
  {
   "cell_type": "markdown",
   "metadata": {},
   "source": [
    "## Standard Plot Format\n",
    "\n",
    "Setup the standard plotting format and make the plot. Fonts and resolution adopted follow CUP style."
   ]
  },
  {
   "cell_type": "code",
   "execution_count": null,
   "metadata": {},
   "outputs": [],
   "source": [
    "figName = 'Fig2_3' \n",
    "\n",
    "# graphic aspect ratio = width/height\n",
    "\n",
    "aspect = 2.5\n",
    "\n",
    "# Text width in inches - don't change, this is defined by the print layout\n",
    "\n",
    "textWidth = 6.0 # inches\n",
    "\n",
    "# output format and resolution\n",
    "\n",
    "figFmt = 'png'\n",
    "dpi = 600\n",
    "\n",
    "# Graphic dimensions \n",
    "\n",
    "plotWidth = dpi*textWidth\n",
    "plotHeight = plotWidth/aspect\n",
    "axisFontSize = 10\n",
    "labelFontSize = 6\n",
    "lwidth = 0.5\n",
    "axisPad = 5\n",
    "wInches = textWidth \n",
    "hInches = wInches/aspect\n",
    "\n",
    "# Plot filename\n",
    "\n",
    "plotFile = f'{figName}.{figFmt}'\n",
    "\n",
    "# LaTeX is used throughout for markup of symbols, Times-Roman serif font\n",
    "\n",
    "plt.rc('text', usetex=True)\n",
    "plt.rc('font', **{'family':'serif','serif':['Times-Roman'],'weight':'bold','size':'16'})\n",
    "\n",
    "# Font and line weight defaults for axes\n",
    "\n",
    "matplotlib.rc('axes',linewidth=lwidth)\n",
    "matplotlib.rcParams.update({'font.size':axisFontSize})\n",
    "\n",
    "# axis and label padding\n",
    "\n",
    "plt.rcParams['xtick.major.pad'] = f'{axisPad}'\n",
    "plt.rcParams['ytick.major.pad'] = f'{axisPad}'\n",
    "plt.rcParams['axes.labelpad'] = f'{axisPad}'"
   ]
  },
  {
   "cell_type": "markdown",
   "metadata": {},
   "source": [
    "## Data Files\n",
    "\n",
    "The spectrum of HoII is in a 2-column ASCII text format file:\n",
    " * lam = wavelength in Angstroms\n",
    " * flam = flux in units of erg/s/cm^2/Angstrom\n",
    " "
   ]
  },
  {
   "cell_type": "code",
   "execution_count": null,
   "metadata": {},
   "outputs": [],
   "source": [
    "dataFile = 'HoII_MODS1_spec.txt'\n",
    "\n",
    "data = pd.read_csv(dataFile,sep=r'\\s+',comment='#')\n",
    "\n",
    "lam = np.array(data['lam'])\n",
    "flam = np.array(data['flam'])"
   ]
  },
  {
   "cell_type": "markdown",
   "metadata": {},
   "source": [
    "### Make the Plot\n",
    "\n",
    "We normalize the horizontal axis to the peak flux in the spectrum, which is the peak of the [O III]5007 emission\n",
    "line."
   ]
  },
  {
   "cell_type": "code",
   "execution_count": null,
   "metadata": {},
   "outputs": [],
   "source": [
    "fig,ax = plt.subplots(figsize=(wInches,hInches),dpi=dpi)\n",
    "\n",
    "ax.tick_params('both',length=6,width=lwidth,which='major',direction='in',top='on',right='on')\n",
    "ax.tick_params('both',length=3,width=lwidth,which='minor',direction='in',top='on',right='on')\n",
    "\n",
    "# Limits\n",
    "\n",
    "lamMin = np.min(lam)\n",
    "lamMax = np.max(lam)\n",
    "mxFlux = np.max(flam)\n",
    "flam /= mxFlux\n",
    "minFlux = -0.05\n",
    "maxFlux = 1.1\n",
    "\n",
    "ax.set_xlim(lamMin,lamMax)\n",
    "ax.xaxis.set_major_locator(MultipleLocator(1000))\n",
    "ax.xaxis.set_minor_locator(MultipleLocator(200))\n",
    "ax.set_xlabel(r'Wavelength [\\AA]',fontsize=axisFontSize)\n",
    "\n",
    "ax.set_ylim(minFlux,maxFlux)\n",
    "ax.yaxis.set_major_locator(MultipleLocator(0.2))\n",
    "ax.yaxis.set_minor_locator(MultipleLocator(0.05))\n",
    "ax.set_ylabel(r'Relative flux',fontsize=axisFontSize)\n",
    "\n",
    "ax.plot(lam,flam,'-',color='black',lw=lwidth,zorder=10)\n",
    "\n",
    "# Label major lines\n",
    "\n",
    "lineID = ['He I','H$\\\\alpha$','[O II]$\\lambda$3727','H$\\\\beta$',\n",
    "          '[O III]$\\lambda$5007','H$\\gamma$','H$\\delta$',\n",
    "          '[S III]$\\lambda$9532','[S III]$\\lambda$9069',\n",
    "          '[O III]$\\lambda$4959']\n",
    "\n",
    "xLabel = [5876,6564,3727,4860,5030,4340,4101,9532,9069,4958]\n",
    "yLabel = [0.03,0.5,0.35,0.25,-1.0,0.12,0.07,0.075,0.04,0.35]\n",
    "rLabel = [90.0,90.0,90.0,90.0,0.0,90.0,90.0,90.0,90.0,90.0]\n",
    "\n",
    "for i in range(len(lineID)):\n",
    "    xl=xLabel[i]\n",
    "    yl=np.abs(yLabel[i])\n",
    "    if yLabel[i]>0:\n",
    "        ax.plot([xl,xl],[yl,yl+0.05],'-',color='black',lw=lwidth)\n",
    "        ax.text(xl,yl+0.06,lineID[i],verticalalignment='bottom',\n",
    "                horizontalalignment='center',rotation=rLabel[i],fontsize=labelFontSize)\n",
    "    else:\n",
    "        ax.text(xl,yl,lineID[i],verticalalignment='center',\n",
    "                horizontalalignment='left',rotation=rLabel[i],fontsize=labelFontSize)\n",
    "        \n",
    "plt.plot()\n",
    "plt.savefig(plotFile,bbox_inches='tight',facecolor='white')"
   ]
  }
 ],
 "metadata": {
  "kernelspec": {
   "display_name": "Python 3 (ipykernel)",
   "language": "python",
   "name": "python3"
  },
  "language_info": {
   "codemirror_mode": {
    "name": "ipython",
    "version": 3
   },
   "file_extension": ".py",
   "mimetype": "text/x-python",
   "name": "python",
   "nbconvert_exporter": "python",
   "pygments_lexer": "ipython3",
   "version": "3.9.7"
  }
 },
 "nbformat": 4,
 "nbformat_minor": 2
}
