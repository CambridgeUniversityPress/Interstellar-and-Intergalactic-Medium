{
 "cells": [
  {
   "cell_type": "markdown",
   "metadata": {},
   "source": [
    "# Voigt-Hjerting Function\n",
    "\n",
    "Figure 2.5 from Chapter 2 of *Interstellar and Intergalactic Medium* by Ryden & Pogge, 2021, \n",
    "Cambridge University Press.\n",
    "\n",
    "Plot of the Voigt-Hjerting function $H(a,u)$ with a=0.0 to 3.0.  We use a numerical implementation of\n",
    "the Voigt function as the real part of the [Faddeeva function](https://en.wikipedia.org/wiki/Faddeeva_function)\n",
    "$w(z)$ in the SciPy special functions package."
   ]
  },
  {
   "cell_type": "code",
   "execution_count": null,
   "metadata": {},
   "outputs": [],
   "source": [
    "%matplotlib inline\n",
    "\n",
    "import math\n",
    "import numpy as np\n",
    "import pandas as pd\n",
    "import matplotlib\n",
    "import matplotlib.pyplot as plt\n",
    "from matplotlib.ticker import MultipleLocator, LogLocator, NullFormatter\n",
    "\n",
    "from scipy import special\n",
    "\n",
    "import warnings\n",
    "warnings.filterwarnings('ignore',category=UserWarning, append=True)"
   ]
  },
  {
   "cell_type": "markdown",
   "metadata": {},
   "source": [
    "## Standard Plot Format\n",
    "\n",
    "Setup the standard plotting format and make the plot. Fonts and resolution adopted follow CUP style.\n"
   ]
  },
  {
   "cell_type": "code",
   "execution_count": null,
   "metadata": {},
   "outputs": [],
   "source": [
    "figName = 'Fig2_5' \n",
    "\n",
    "# graphic aspect ratio = width/height\n",
    "\n",
    "aspect = 4.0/3.0 # 4:3\n",
    "\n",
    "# Text width in inches - don't change, this is defined by the print layout\n",
    "\n",
    "textWidth = 6.0 # inches\n",
    "\n",
    "# output format and resolution\n",
    "\n",
    "figFmt = 'png'\n",
    "dpi = 600\n",
    "\n",
    "# Graphic dimensions \n",
    "\n",
    "plotWidth = dpi*textWidth\n",
    "plotHeight = plotWidth/aspect\n",
    "axisFontSize = 10\n",
    "labelFontSize = 6\n",
    "lwidth = 0.5\n",
    "axisPad = 5\n",
    "wInches = textWidth \n",
    "hInches = wInches/aspect\n",
    "\n",
    "# Plot filename\n",
    "\n",
    "plotFile = f'{figName}.{figFmt}'\n",
    "\n",
    "# LaTeX is used throughout for markup of symbols, Times-Roman serif font\n",
    "\n",
    "plt.rc('text', usetex=True)\n",
    "plt.rc('font', **{'family':'serif','serif':['Times-Roman'],'weight':'bold','size':'16'})\n",
    "\n",
    "# Font and line weight defaults for axes\n",
    "\n",
    "matplotlib.rc('axes',linewidth=lwidth)\n",
    "matplotlib.rcParams.update({'font.size':axisFontSize})\n",
    "\n",
    "# axis and label padding\n",
    "\n",
    "plt.rcParams['xtick.major.pad'] = f'{axisPad}'\n",
    "plt.rcParams['ytick.major.pad'] = f'{axisPad}'\n",
    "plt.rcParams['axes.labelpad'] = f'{axisPad}'"
   ]
  },
  {
   "cell_type": "markdown",
   "metadata": {},
   "source": [
    "## Voigt-Hjerting Function\n",
    "\n",
    "The Voigt function is the real part of the Faddeeva function.  We're slightly finessing the normalization\n",
    "here for illustration purposes.\n",
    "\n",
    "For this code, we're using [wofz()](https://docs.scipy.org/doc/scipy/reference/generated/scipy.special.wofz.html#scipy.special.wofz), the python \n",
    "implementation of the Faddeeva function in the [SciPy special functions package](https://docs.scipy.org/doc/scipy/reference/special.html).\n",
    "\n",
    "For a detailed derivation, the Wikipedia articles are good:\n",
    " * [Voigt Profile](http://en.wikipedia.org/wiki/Voigt_profile)\n",
    " * [Faddeeva Function](http://en.wikipedia.org/wiki/Faddeeva_function)\n",
    "\n",
    "The Voigt-Hjerting function $H(a,u)$ can be written in terms of the Faddeeva function $w(z)$ as \n",
    "$ H(a,u)=\\Re[w(u + ia)]$.\n",
    "\n",
    "We define a python function H(a,u) to make use of wofz() more transparent in what follows. "
   ]
  },
  {
   "cell_type": "code",
   "execution_count": null,
   "metadata": {},
   "outputs": [],
   "source": [
    "def H(a,u):\n",
    "    return special.wofz(u + 1j*a).real"
   ]
  },
  {
   "cell_type": "markdown",
   "metadata": {},
   "source": [
    "## Compute H(a,u)\n",
    "\n",
    "We will plot $H(a,u)$ for a range of $a$\n",
    "\\begin{equation}\n",
    "a \\equiv \\frac{\\gamma_{u\\ell} c}{4 \\pi \\nu_{u\\ell} b}\n",
    "\\end{equation}\n",
    "and $u$:\n",
    "\\begin{equation}\n",
    "u \\equiv \\frac{c}{b} \\left( 1 - \\nu/\\nu_{u\\ell}\\right) = \\frac{v}{b}  .\n",
    "\\end{equation}\n",
    "\n",
    "Evaluate for $a$ from 0.0 to 3.0 in roughly logarithmic steps: a={0.0, 0.1, 0.3, 1.0, 3.0}, skipping 0.03 as too close to 0 to readily distinguish, and $u$ from -5 to +5 in steps of 0.05"
   ]
  },
  {
   "cell_type": "code",
   "execution_count": null,
   "metadata": {},
   "outputs": [],
   "source": [
    "# Range of u: -5 to +5 in steps of 0.05\n",
    "\n",
    "uMin = -5.0\n",
    "uMax = 5.0\n",
    "uStep = 0.05\n",
    "numPts = int((uMax-uMin)/uStep)+1\n",
    "u = np.linspace(uMin,uMax,numPts)\n",
    "\n",
    "yMin = -0.05\n",
    "yMax = 1.10\n",
    "\n",
    "# range of a in 6 steps from 0 to 3.0\n",
    "\n",
    "aRange = [0.0,0.1,0.3,1.0,3.0]\n",
    "Hau = {}\n",
    "for a in aRange:\n",
    "    Hau[a]=H(a,u)"
   ]
  },
  {
   "cell_type": "markdown",
   "metadata": {},
   "source": [
    "### Make the Plot\n",
    "\n",
    "All lines are solid black and labeled with the value of $a$."
   ]
  },
  {
   "cell_type": "code",
   "execution_count": null,
   "metadata": {},
   "outputs": [],
   "source": [
    "fig,ax = plt.subplots()\n",
    "\n",
    "fig.set_dpi(dpi)\n",
    "fig.set_size_inches(wInches,hInches,forward=True)\n",
    "\n",
    "ax.tick_params('both',length=6,width=lwidth,which='major',direction='in',top='on',right='on')\n",
    "ax.tick_params('both',length=3,width=lwidth,which='minor',direction='in',top='on',right='on')\n",
    "\n",
    "plt.xlim(uMin,uMax)\n",
    "ax.xaxis.set_major_locator(MultipleLocator(2))\n",
    "ax.xaxis.set_minor_locator(MultipleLocator(0.5))\n",
    "plt.xlabel(r'u',fontsize=axisFontSize)\n",
    "\n",
    "plt.ylim(yMin,yMax)\n",
    "ax.yaxis.set_major_locator(MultipleLocator(0.2))\n",
    "ax.yaxis.set_minor_locator(MultipleLocator(0.05))\n",
    "plt.ylabel(r'H(a,u)',fontsize=axisFontSize)\n",
    "\n",
    "# plot the curves\n",
    "\n",
    "for a in aRange:\n",
    "    plt.plot(u,Hau[a],'-',color='black',lw=1,zorder=10)\n",
    "    if a == 0.0:\n",
    "        label = 'a=0'\n",
    "    else:\n",
    "        label = f'{a:.1f}'\n",
    "        \n",
    "    plt.text(0.0,np.max(Hau[a]),label,color='black',va='bottom',ha='center',fontsize=labelFontSize)\n",
    "\n",
    "# plot and file\n",
    "\n",
    "plt.plot()\n",
    "plt.savefig(plotFile,bbox_inches='tight',facecolor='white')"
   ]
  }
 ],
 "metadata": {
  "kernelspec": {
   "display_name": "Python 3",
   "language": "python",
   "name": "python3"
  },
  "language_info": {
   "codemirror_mode": {
    "name": "ipython",
    "version": 3
   },
   "file_extension": ".py",
   "mimetype": "text/x-python",
   "name": "python",
   "nbconvert_exporter": "python",
   "pygments_lexer": "ipython3",
   "version": "3.8.5"
  }
 },
 "nbformat": 4,
 "nbformat_minor": 2
}
