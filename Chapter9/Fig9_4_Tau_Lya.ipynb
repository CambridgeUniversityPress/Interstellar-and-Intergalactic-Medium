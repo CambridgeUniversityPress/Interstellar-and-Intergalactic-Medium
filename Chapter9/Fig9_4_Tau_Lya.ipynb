{
 "cells": [
  {
   "cell_type": "markdown",
   "metadata": {},
   "source": [
    "# Lyman-$\\alpha$ Optical Depth\n",
    "\n",
    "Figure 9.4 from Chapter 9 of *Interstellar and Intergalactic Medium* by Ryden & Pogge, 2021, \n",
    "Cambridge University Press.\n",
    "\n",
    "Plot of effective optical depth, $\\tau_{eff}$, for Lyman-$\\alpha$ for redshifts from $z=2$ to $\\sim6$.\n",
    "\n",
    "For low redshifts, $2 < z < 4$, we plot the best-fit empirical relation derived by\n",
    "[Kamble et al. 2020, ApJ, 892, 70](https://ui.adsabs.harvard.edu/abs/2020ApJ...892...70K/abstract). \n",
    "\n",
    "For $z\\ge5$, we plot the mean $\\tau$ with error bars and the mean and standard deviation\n",
    "in Lyman-$\\alpha$ optical depth along lines of sight to high-redshift quasars \n",
    "derived from [Bosman et al. 2018, MNRAS, 479, 1055](https://ui.adsabs.harvard.edu/abs/2018MNRAS.479.1055B), using\n",
    "Table 5 and equations 3 and 4 to compute the optical depths and associated errors.  These are given in an\n",
    "external data file associated with this notebook."
   ]
  },
  {
   "cell_type": "code",
   "execution_count": null,
   "metadata": {},
   "outputs": [],
   "source": [
    "%matplotlib inline\n",
    "\n",
    "import math\n",
    "import numpy as np\n",
    "import pandas as pd\n",
    "import matplotlib\n",
    "import matplotlib.pyplot as plt\n",
    "from matplotlib.ticker import MultipleLocator, LogLocator, NullFormatter\n",
    "\n",
    "import warnings\n",
    "warnings.filterwarnings('ignore',category=UserWarning, append=True)\n",
    "warnings.filterwarnings('ignore',category=RuntimeWarning, append=True)"
   ]
  },
  {
   "cell_type": "markdown",
   "metadata": {},
   "source": [
    "## Standard Plot Format\n",
    "\n",
    "Setup the standard plotting format and make the plot. Fonts and resolution adopted follow CUP style."
   ]
  },
  {
   "cell_type": "code",
   "execution_count": null,
   "metadata": {},
   "outputs": [],
   "source": [
    "figName = 'Fig9_4' \n",
    "\n",
    "# graphic aspect ratio = width/height\n",
    "\n",
    "aspect = 4.0/3.0 # 4:3\n",
    "\n",
    "# Text width in inches - don't change, this is defined by the print layout\n",
    "\n",
    "textWidth = 6.0 # inches\n",
    "\n",
    "# output format and resolution\n",
    "\n",
    "figFmt = 'png'\n",
    "dpi = 600\n",
    "\n",
    "# Graphic dimensions \n",
    "\n",
    "plotWidth = dpi*textWidth\n",
    "plotHeight = plotWidth/aspect\n",
    "axisFontSize = 10\n",
    "labelFontSize = 6\n",
    "lwidth = 0.5\n",
    "axisPad = 5\n",
    "wInches = textWidth \n",
    "hInches = wInches/aspect\n",
    "\n",
    "# Plot filename\n",
    "\n",
    "plotFile = f'{figName}.{figFmt}'\n",
    "\n",
    "# LaTeX is used throughout for markup of symbols, Times-Roman serif font\n",
    "\n",
    "plt.rc('text', usetex=True)\n",
    "plt.rc('font', **{'family':'serif','serif':['Times-Roman'],'weight':'bold','size':'16'})\n",
    "\n",
    "# Font and line weight defaults for axes\n",
    "\n",
    "matplotlib.rc('axes',linewidth=lwidth)\n",
    "matplotlib.rcParams.update({'font.size':axisFontSize})\n",
    "\n",
    "# axis and label padding\n",
    "\n",
    "plt.rcParams['xtick.major.pad'] = f'{axisPad}'\n",
    "plt.rcParams['ytick.major.pad'] = f'{axisPad}'\n",
    "plt.rcParams['axes.labelpad'] = f'{axisPad}'"
   ]
  },
  {
   "cell_type": "markdown",
   "metadata": {},
   "source": [
    "## Low-redshift $\\tau$ of Ly-$\\alpha$\n",
    "\n",
    "Compute the optical depth of Ly-$\\alpha$ from 2<z<4 using the analytic formula from Kamble et al. 2020, equation\n",
    "in Section 6.1.\n",
    " > $\\tau_{eff}(z) = \\tau_0(1+z)^{\\gamma}$\n",
    "\n",
    "where we adopt their best-fit values of\n",
    " * $\\tau_0 = 0.00554\\pm0.00064$\n",
    " * $\\gamma = 3.182\\pm0.074$\n",
    " \n",
    "These are the values given in the text section 7, of which rounded off versions are in their Table 4."
   ]
  },
  {
   "cell_type": "code",
   "execution_count": null,
   "metadata": {},
   "outputs": [],
   "source": [
    "zLow = np.linspace(2.0,4.0,101)\n",
    "tau0 = 0.00554\n",
    "gamma = 3.182\n",
    "tauLow = tau0*(1.0+zLow)**gamma"
   ]
  },
  {
   "cell_type": "markdown",
   "metadata": {},
   "source": [
    "## High-redshift data\n",
    "\n",
    "Data are in a 3-column format ASCII file named 'Bosman_highz_tau.txt.  These are derived from the data\n",
    "in Bosman et al. 2018 Table 5, using equations 3 and 4 of their paper to convert their measurements into\n",
    "mean effective optical depth. \n",
    "\n",
    "The three data columns are\n",
    " * z - redshift\n",
    " * tau - mean value of optical depth of Ly-$\\alpha$\n",
    " * tauErr - standard deviation of $\\tau$\n"
   ]
  },
  {
   "cell_type": "code",
   "execution_count": null,
   "metadata": {},
   "outputs": [],
   "source": [
    "dataFile = 'Bosman_highz_tau.txt'\n",
    "\n",
    "data = pd.read_csv(dataFile,sep=r'\\s+',comment='#')\n",
    "zHi = np.array(data['z'])\n",
    "tauHi = np.array(data['tau'])\n",
    "errHi = np.array(data['tauErr'])\n",
    "\n",
    "# Plotting Limits\n",
    "\n",
    "xMin = 2.0 # redshift\n",
    "xMax = 6.4\n",
    "\n",
    "yMin = 0.0 # optical depth\n",
    "yMax = 6.5"
   ]
  },
  {
   "cell_type": "markdown",
   "metadata": {},
   "source": [
    "## Make the plot\n",
    "\n",
    "Low redshift data as a solid line, high redshift averages as squares with error bars"
   ]
  },
  {
   "cell_type": "code",
   "execution_count": null,
   "metadata": {},
   "outputs": [],
   "source": [
    "fig,ax = plt.subplots(figsize=(wInches,hInches),dpi=dpi)\n",
    "\n",
    "ax.tick_params('both',length=6,width=lwidth,which='major',direction='in',top='on',right='on')\n",
    "ax.tick_params('both',length=3,width=lwidth,which='minor',direction='in',top='on',right='on')\n",
    "\n",
    "# Limits\n",
    "\n",
    "ax.set_xlim(xMin,xMax)\n",
    "ax.xaxis.set_major_locator(MultipleLocator(1))\n",
    "ax.xaxis.set_minor_locator(MultipleLocator(0.2))\n",
    "ax.set_xlabel(r'z',fontsize=axisFontSize)\n",
    "\n",
    "ax.set_ylim(yMin,yMax)\n",
    "ax.yaxis.set_major_locator(MultipleLocator(2))\n",
    "ax.yaxis.set_minor_locator(MultipleLocator(0.5))\n",
    "ax.set_ylabel(r'$\\tau_{eff}$',fontsize=axisFontSize)\n",
    "\n",
    "# low-redshift tau\n",
    "\n",
    "ax.plot(zLow,tauLow,'-',color='black',lw=1.0,zorder=10)\n",
    "\n",
    "# high-redshift\n",
    "\n",
    "ax.errorbar(zHi,tauHi,yerr=errHi,fmt='s',ms=3,lw=0.5,ls=None,capsize=2,capthick=0.5,color='black',zorder=10)\n",
    "\n",
    "plt.plot()\n",
    "plt.savefig(plotFile,bbox_inches='tight',facecolor='white')"
   ]
  }
 ],
 "metadata": {
  "kernelspec": {
   "display_name": "Python 3 (ipykernel)",
   "language": "python",
   "name": "python3"
  },
  "language_info": {
   "codemirror_mode": {
    "name": "ipython",
    "version": 3
   },
   "file_extension": ".py",
   "mimetype": "text/x-python",
   "name": "python",
   "nbconvert_exporter": "python",
   "pygments_lexer": "ipython3",
   "version": "3.9.7"
  }
 },
 "nbformat": 4,
 "nbformat_minor": 2
}
