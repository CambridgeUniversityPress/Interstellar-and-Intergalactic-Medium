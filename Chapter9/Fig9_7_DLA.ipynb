{
 "cells": [
  {
   "cell_type": "markdown",
   "metadata": {},
   "source": [
    "# Damped Lyman Alpha absorber system towards a QSO\n",
    "\n",
    "Figure 9.7 from Chapter 9 of *Interstellar and Intergalactic Medium* by Ryden & Pogge, 2021, \n",
    "Cambridge University Press.\n",
    "\n",
    "Plot spectrum of the damped Lyman $\\alpha$ absorption (DLA) line from a cloud along the line of sight towards\n",
    "QSO J021741.8-370100 ($z_{em}$=2.910).  Data are from the ESO UVES spectrograph obtained from the\n",
    "[ESO Science Archive Facility](http://archive.eso.org).  The DLA of the QSO has a \n",
    "redshift of  $z_{abs}$=2.429 and a column density of $\\log_{10} N_{HI}=$20.62$\\pm$0.08.\n",
    "\n",
    "The QSO was first identified as a DLA system by [Maza, J., Wischnjewsky, M., & Antezana, R. 1996, Rev. Mex. Astron. Astrophys., 32, 35](https://ui.adsabs.harvard.edu/abs/1996RMxAA..32...35M), and the column\n",
    "density of the DLA was measured by\n",
    "[Zafar et al., 2013, A&A 556, A140](https://ui.adsabs.harvard.edu/abs/2013A%26A...556A.140Z).\n",
    "\n",
    "Data were selected and extracted from the ESO UVES database by Dr. Stephan Frank, who normalized the spectrum\n",
    "in the region of interest and computed the damped Ly$\\alpha$ absorption profile corresponding to the published\n",
    "column density.  These data are provided in an external file associated with this notebook."
   ]
  },
  {
   "cell_type": "code",
   "execution_count": null,
   "metadata": {},
   "outputs": [],
   "source": [
    "%matplotlib inline\n",
    "\n",
    "import math\n",
    "import numpy as np\n",
    "import pandas as pd\n",
    "import matplotlib\n",
    "import matplotlib.pyplot as plt\n",
    "from matplotlib.ticker import MultipleLocator, LogLocator, NullFormatter\n",
    "\n",
    "# for smoothing the UVES spectrum \n",
    "\n",
    "from astropy.convolution import convolve, Box1DKernel\n",
    "\n",
    "# suppress nuisance warnings\n",
    "\n",
    "import warnings\n",
    "warnings.filterwarnings('ignore',category=UserWarning, append=True)\n",
    "warnings.filterwarnings('ignore',category=RuntimeWarning, append=True)"
   ]
  },
  {
   "cell_type": "markdown",
   "metadata": {},
   "source": [
    "## Standard Plot Format\n",
    "\n",
    "Setup the standard plotting format and make the plot. Fonts and resolution adopted follow CUP style."
   ]
  },
  {
   "cell_type": "code",
   "execution_count": null,
   "metadata": {},
   "outputs": [],
   "source": [
    "figName = 'Fig9_7' \n",
    "\n",
    "# graphic aspect ratio = width/height\n",
    "\n",
    "aspect = 2.5\n",
    "\n",
    "# Text width in inches - don't change, this is defined by the print layout\n",
    "\n",
    "textWidth = 6.0 # inches\n",
    "\n",
    "# output format and resolution\n",
    "\n",
    "figFmt = 'png'\n",
    "dpi = 600\n",
    "\n",
    "# Graphic dimensions \n",
    "\n",
    "plotWidth = dpi*textWidth\n",
    "plotHeight = plotWidth/aspect\n",
    "axisFontSize = 10\n",
    "labelFontSize = 6\n",
    "lwidth = 0.5\n",
    "axisPad = 5\n",
    "wInches = textWidth \n",
    "hInches = wInches/aspect\n",
    "\n",
    "# Plot filename\n",
    "\n",
    "plotFile = f'{figName}.{figFmt}'\n",
    "\n",
    "# LaTeX is used throughout for markup of symbols, Times-Roman serif font\n",
    "\n",
    "plt.rc('text', usetex=True)\n",
    "plt.rc('font', **{'family':'serif','serif':['Times-Roman'],'weight':'bold','size':'16'})\n",
    "\n",
    "# Font and line weight defaults for axes\n",
    "\n",
    "matplotlib.rc('axes',linewidth=lwidth)\n",
    "matplotlib.rcParams.update({'font.size':axisFontSize})\n",
    "\n",
    "# axis and label padding\n",
    "\n",
    "plt.rcParams['xtick.major.pad'] = f'{axisPad}'\n",
    "plt.rcParams['ytick.major.pad'] = f'{axisPad}'\n",
    "plt.rcParams['axes.labelpad'] = f'{axisPad}'"
   ]
  },
  {
   "cell_type": "markdown",
   "metadata": {},
   "source": [
    "## Spectral Data\n",
    "\n",
    "Data are in a 3-column format, wavelength, relative flux units (F$_\\lambda$), and flux error:\n",
    " * wave - wavelength in Angstroms, observed frame\n",
    " * flux_norm - continuum-normalized flux\n",
    " * model - absorption line model for the DLA\n",
    " \n",
    "The redshift of the DLA is z_abs=2.429, which we use to transform the observed wavelenghts into rest wavelength."
   ]
  },
  {
   "cell_type": "code",
   "execution_count": null,
   "metadata": {},
   "outputs": [],
   "source": [
    "dataFile='J021741.8-370100_norm.txt'\n",
    "z_abs = 2.429\n",
    "\n",
    "data = pd.read_csv(dataFile,sep=r'\\s+',comment='#')\n",
    "lam = np.array(data['wave'])/(1+z_abs)\n",
    "flux = np.array(data['flux_norm'])\n",
    "fDLA = np.array(data['model']) \n",
    "\n",
    "# Smooth the spectrum with a boxcar (running mean) of width 7 pixels\n",
    "\n",
    "width = 7\n",
    "smFlux = convolve(flux, Box1DKernel(width))\n",
    "\n",
    "# Plotting Limits\n",
    "\n",
    "xMin = 1200\n",
    "xMax = 1232\n",
    "\n",
    "yMin = -0.05 # normalized flux\n",
    "yMax = 1.15"
   ]
  },
  {
   "cell_type": "markdown",
   "metadata": {},
   "source": [
    "## Make the Plot\n",
    "\n",
    "Spectrum as a solid black step plot, damped Ly$\\alpha$ absorption line model as a dashed black line."
   ]
  },
  {
   "cell_type": "code",
   "execution_count": null,
   "metadata": {},
   "outputs": [],
   "source": [
    "fig,ax = plt.subplots(figsize=(wInches,hInches),dpi=dpi)\n",
    "\n",
    "ax.set_xlim(xMin,xMax)\n",
    "ax.set_ylim(yMin,yMax)\n",
    "\n",
    "ax.tick_params('both',length=6,width=lwidth,which='major',direction='in',top='on',right='on')\n",
    "ax.tick_params('both',length=3,width=lwidth,which='minor',direction='in',top='on',right='on')\n",
    "\n",
    "ax.xaxis.set_major_locator(MultipleLocator(5.))\n",
    "ax.xaxis.set_minor_locator(MultipleLocator(1.))\n",
    "ax.set_xlabel(r'Wavelength [\\AA]')\n",
    "ax.yaxis.set_major_locator(MultipleLocator(0.2))\n",
    "ax.yaxis.set_minor_locator(MultipleLocator(0.05))\n",
    "ax.set_ylabel(r'Relative flux', fontsize=axisFontSize)\n",
    "\n",
    "ax.plot(lam,smFlux,'-',ds='steps-mid',color='black',lw=0.5,zorder=10)\n",
    "\n",
    "# Model DLA profile plus continuum (1) and zero flux (0) lines\n",
    "\n",
    "ax.plot(lam,fDLA,'-',color='black',lw=1.0,zorder=8)\n",
    "ax.hlines([0.0,1.0],xMin,xMax,ls=':',color='black',lw=0.5,zorder=5)\n",
    "\n",
    "# make the plot\n",
    "\n",
    "plt.plot()\n",
    "plt.savefig(plotFile,bbox_inches='tight',facecolor='white')"
   ]
  }
 ],
 "metadata": {
  "kernelspec": {
   "display_name": "Python 3 (ipykernel)",
   "language": "python",
   "name": "python3"
  },
  "language_info": {
   "codemirror_mode": {
    "name": "ipython",
    "version": 3
   },
   "file_extension": ".py",
   "mimetype": "text/x-python",
   "name": "python",
   "nbconvert_exporter": "python",
   "pygments_lexer": "ipython3",
   "version": "3.9.7"
  }
 },
 "nbformat": 4,
 "nbformat_minor": 4
}
