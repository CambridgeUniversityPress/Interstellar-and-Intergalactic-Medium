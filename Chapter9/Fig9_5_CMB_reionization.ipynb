{
 "cells": [
  {
   "cell_type": "markdown",
   "metadata": {},
   "source": [
    "# Effect of Reionization on the CMB power spectrum\n",
    "\n",
    "Figure 9.5 from Chapter 9 of *Interstellar and Intergalactic Medium* by Ryden & Pogge, 2021, \n",
    "Cambridge University Press.\n",
    "\n",
    "Plot of the effect of reionization on the CMB angular power spectrum. \n",
    "\n",
    "The CMB angular power spectrum was computed for the case of no Thomson scattering by the reionized gas \n",
    "($\\tau_e=0$), then for values of the Thompson scattering optical depth of $\\tau_e$={0.05,0.1,0.2,0.5}.\n",
    "\n",
    "Calculations were performed using [CAMB](https://camb.info/) written by Antony Lewis and Anthony Challinor.\n",
    "\n",
    "We pre-computed the CAMB models and stored in an ASCII data file using the \n",
    "[CAMB Web Interface](https://lambda.gsfc.nasa.gov/toolbox/tb_camb_form.cfm) at NASA Goddard Space Flight Center's\n",
    "Legacy Archive for Microwave Background Data Analysis ([LAMBDA](https://lambda.gsfc.nasa.gov/))."
   ]
  },
  {
   "cell_type": "code",
   "execution_count": null,
   "metadata": {},
   "outputs": [],
   "source": [
    "%matplotlib inline\n",
    "\n",
    "import math\n",
    "import numpy as np\n",
    "import pandas as pd\n",
    "import matplotlib\n",
    "import matplotlib.pyplot as plt\n",
    "from matplotlib.ticker import MultipleLocator, LogLocator, NullFormatter\n",
    "\n",
    "import warnings\n",
    "warnings.filterwarnings('ignore',category=UserWarning, append=True)\n",
    "warnings.filterwarnings('ignore',category=RuntimeWarning, append=True)"
   ]
  },
  {
   "cell_type": "markdown",
   "metadata": {},
   "source": [
    "## Standard Plot Format\n",
    "\n",
    "Setup the standard plotting format and make the plot. Fonts and resolution adopted follow CUP style."
   ]
  },
  {
   "cell_type": "code",
   "execution_count": null,
   "metadata": {},
   "outputs": [],
   "source": [
    "figName = 'Fig9_5' \n",
    "\n",
    "# graphic aspect ratio = width/height\n",
    "\n",
    "aspect = 4.0/3.0 # 4:3\n",
    "\n",
    "# Text width in inches - don't change, this is defined by the print layout\n",
    "\n",
    "textWidth = 6.0 # inches\n",
    "\n",
    "# output format and resolution\n",
    "\n",
    "figFmt = 'png'\n",
    "dpi = 600\n",
    "\n",
    "# Graphic dimensions \n",
    "\n",
    "plotWidth = dpi*textWidth\n",
    "plotHeight = plotWidth/aspect\n",
    "axisFontSize = 10\n",
    "labelFontSize = 6\n",
    "lwidth = 0.5\n",
    "axisPad = 5\n",
    "wInches = textWidth \n",
    "hInches = wInches/aspect\n",
    "\n",
    "# Plot filename\n",
    "\n",
    "plotFile = f'{figName}.{figFmt}'\n",
    "\n",
    "# LaTeX is used throughout for markup of symbols, Times-Roman serif font\n",
    "\n",
    "plt.rc('text', usetex=True)\n",
    "plt.rc('font', **{'family':'serif','serif':['Times-Roman'],'weight':'bold','size':'16'})\n",
    "\n",
    "# Font and line weight defaults for axes\n",
    "\n",
    "matplotlib.rc('axes',linewidth=lwidth)\n",
    "matplotlib.rcParams.update({'font.size':axisFontSize})\n",
    "\n",
    "# axis and label padding\n",
    "\n",
    "plt.rcParams['xtick.major.pad'] = f'{axisPad}'\n",
    "plt.rcParams['ytick.major.pad'] = f'{axisPad}'\n",
    "plt.rcParams['axes.labelpad'] = f'{axisPad}'"
   ]
  },
  {
   "cell_type": "markdown",
   "metadata": {},
   "source": [
    "## Angular Power Spectra at different $\\tau_e$\n",
    "\n",
    "Data were precomputed with CAMB and presented as an ASCII multi-column text file, with the following data:\n",
    " * l - angular multipole moment (integer)\n",
    " * tau0.00 - angular power spectrum $\\Delta_T$ for Thompson scattering optical depth $\\tau_e$=0\n",
    " * tau0.05 - angular power spectrum for $\\tau_e$=0.05\n",
    " * tau0.10 - angular power spectrum for $\\tau_e$=0.1\n",
    " * tau0.20 - angular power spectrum for $\\tau_e$=0.2\n",
    " * tau0.50 - angular power spectrum for $\\tau_e$=0.5\n",
    " \n"
   ]
  },
  {
   "cell_type": "code",
   "execution_count": null,
   "metadata": {},
   "outputs": [],
   "source": [
    "dataFile = 'CAMB_tau_e.txt'\n",
    "\n",
    "data = pd.read_csv(dataFile,sep=r'\\s+',comment='#')\n",
    "l = np.array(data['l'])\n",
    "tau0 = np.array(data['tau0.00'])\n",
    "tau05 = np.array(data['tau0.05'])\n",
    "tau10 = np.array(data['tau0.10'])\n",
    "tau20 = np.array(data['tau0.20'])\n",
    "tau50 = np.array(data['tau0.50'])\n",
    "\n",
    "# Plotting Limits\n",
    "\n",
    "xMin = 1.0 # redshift\n",
    "xMax = 3000.\n",
    "\n",
    "yMin = 0.0 # CMB angular power in microKelvin\n",
    "yMax = 90"
   ]
  },
  {
   "cell_type": "markdown",
   "metadata": {},
   "source": [
    "## Make the plot\n",
    "\n",
    "Plot the $\\tau=0$ angular power spectrum as a solid line, then the other optical depths as alternating dotted\n",
    "and dashed lines."
   ]
  },
  {
   "cell_type": "code",
   "execution_count": null,
   "metadata": {},
   "outputs": [],
   "source": [
    "fig,ax = plt.subplots(figsize=(wInches,hInches),dpi=dpi)\n",
    "\n",
    "ax.tick_params('both',length=6,width=lwidth,which='major',direction='in',top='on',right='on')\n",
    "ax.tick_params('both',length=3,width=lwidth,which='minor',direction='in',top='on',right='on')\n",
    "\n",
    "# Limits\n",
    "\n",
    "ax.set_xlim(xMin,xMax)\n",
    "ax.set_xscale('log')\n",
    "ax.set_xticks([1,10,100,1000])\n",
    "ax.set_xticklabels(['1','10','100','1000'])\n",
    "ax.set_xlabel(r'$\\ell$',fontsize=axisFontSize)\n",
    "\n",
    "ax.set_ylim(yMin,yMax)\n",
    "ax.yaxis.set_major_locator(MultipleLocator(20))\n",
    "ax.yaxis.set_minor_locator(MultipleLocator(5))\n",
    "ax.set_ylabel(r'$\\Delta_{\\rm T}$ [$\\mu$K]',fontsize=axisFontSize)\n",
    "\n",
    "# No reionized gas (tau_e=0) as a solid black line\n",
    "\n",
    "ax.plot(l,tau0,'-',color='black',lw=2*lwidth,zorder=10)\n",
    "\n",
    "# Effect of reionization at different tau_e\n",
    "\n",
    "ax.plot(l,tau05,':',color='black',lw=lwidth,zorder=10)\n",
    "ax.plot(l,tau10,'--',color='black',lw=lwidth,zorder=10)\n",
    "ax.plot(l,tau20,':',color='black',lw=lwidth,zorder=10)\n",
    "ax.plot(l,tau50,'--',color='black',lw=lwidth,zorder=10)\n",
    "\n",
    "plt.plot()\n",
    "plt.savefig(plotFile,bbox_inches='tight',facecolor='white')"
   ]
  }
 ],
 "metadata": {
  "kernelspec": {
   "display_name": "Python 3 (ipykernel)",
   "language": "python",
   "name": "python3"
  },
  "language_info": {
   "codemirror_mode": {
    "name": "ipython",
    "version": 3
   },
   "file_extension": ".py",
   "mimetype": "text/x-python",
   "name": "python",
   "nbconvert_exporter": "python",
   "pygments_lexer": "ipython3",
   "version": "3.9.7"
  }
 },
 "nbformat": 4,
 "nbformat_minor": 2
}
