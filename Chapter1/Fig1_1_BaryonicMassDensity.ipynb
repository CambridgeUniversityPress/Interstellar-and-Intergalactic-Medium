{
 "cells": [
  {
   "cell_type": "markdown",
   "metadata": {},
   "source": [
    "# Baryonic Mass Distribution in the universe\n",
    "\n",
    "Figure 1.1 for *Interstellar and Intergalactic Medium* by Ryden & Peterson, 2021, Cambridge University Press.\n",
    "\n",
    "Approximate division of the baryonic mass density of the current universe.  Data are from\n",
    "[Nicastro et al. 2018](https://ui.adsabs.harvard.edu/abs/2018Natur.558..406N/abstract),\n",
    "[Martizzi et al. 2019](https://ui.adsabs.harvard.edu/abs/2019MNRAS.486.3766M/abstract),\n",
    "and references therein."
   ]
  },
  {
   "cell_type": "code",
   "execution_count": null,
   "metadata": {},
   "outputs": [],
   "source": [
    "%matplotlib inline\n",
    "\n",
    "import matplotlib\n",
    "import matplotlib.pyplot as plt\n",
    "from matplotlib.ticker import MultipleLocator, LogLocator, NullFormatter\n",
    "\n",
    "import numpy as np\n",
    "import pandas as pd\n",
    "\n",
    "import warnings\n",
    "warnings.filterwarnings('ignore',category=UserWarning, append=True)"
   ]
  },
  {
   "cell_type": "markdown",
   "metadata": {},
   "source": [
    "## Standard Plot Format\n",
    "\n",
    "Setup the standard plotting format and make the plot. Fonts and resolution adopted follow CUP style."
   ]
  },
  {
   "cell_type": "code",
   "execution_count": null,
   "metadata": {},
   "outputs": [],
   "source": [
    "figName = 'Fig1_1' \n",
    "\n",
    "# graphic aspect ratio = width/height\n",
    "\n",
    "aspect = 1.0\n",
    "\n",
    "# Text width in inches - don't change, this is defined by the print layout\n",
    "\n",
    "textWidth = 6.0 # inches\n",
    "\n",
    "# output format and resolution\n",
    "\n",
    "figFmt = 'jpg'\n",
    "dpi = 600\n",
    "\n",
    "# Graphic dimensions \n",
    "\n",
    "plotWidth = dpi*textWidth\n",
    "plotHeight = plotWidth/aspect\n",
    "axisFontSize = 14\n",
    "labelFontSize = 10\n",
    "lwidth = 0.5\n",
    "axisPad = 5\n",
    "wInches = textWidth \n",
    "hInches = wInches/aspect\n",
    "       \n",
    "# Plot filename\n",
    "\n",
    "plotFile = f'{figName}.{figFmt}'\n",
    "\n",
    "# LaTeX is used throughout for markup of symbols, Times-Roman serif font\n",
    "\n",
    "plt.rc('text', usetex=True)\n",
    "plt.rc('font', **{'family':'serif','serif':['Times-Roman'],'weight':'bold','size':'16'})\n",
    "\n",
    "# Font and line weight defaults for axes\n",
    "\n",
    "matplotlib.rc('axes',linewidth=lwidth)\n",
    "matplotlib.rcParams.update({'font.size':axisFontSize})\n",
    "\n",
    "# axis and label padding\n",
    "\n",
    "plt.rcParams['xtick.major.pad'] = f'{axisPad}'\n",
    "plt.rcParams['ytick.major.pad'] = f'{axisPad}'\n",
    "plt.rcParams['axes.labelpad'] = f'{axisPad}'"
   ]
  },
  {
   "cell_type": "markdown",
   "metadata": {},
   "source": [
    "## Baryonic Mass Fraction Data\n",
    "\n",
    "We adopt round-number fractions for the division of baryonic mass density for purposes of this graphic."
   ]
  },
  {
   "cell_type": "code",
   "execution_count": null,
   "metadata": {},
   "outputs": [],
   "source": [
    "bmFrac = [7.0,2.0,5.0,4.0,38.0,44.0]\n",
    "labels = ['Stars, etc.\\n7\\%','ISM\\n2\\%','CGM\\n5\\%','ICM\\n4\\%','DIM\\n38\\%','WHIM\\n44\\%']\n",
    "\n",
    "# Grayscale from 40% in 10% increments\n",
    "\n",
    "colors = []\n",
    "gray0 = 0.4\n",
    "gstep = 0.1\n",
    "for i in range(len(bmFrac)):\n",
    "    rgb=gray0+i*gstep\n",
    "    colors.append([rgb,rgb,rgb])\n",
    "    \n",
    "# Text properties dictionary\n",
    "\n",
    "props = dict(color='black',size=axisFontSize,ha='center',va='center',linespacing=1.5)"
   ]
  },
  {
   "cell_type": "markdown",
   "metadata": {},
   "source": [
    "## Baryon Mass Fraction Pie Chart\n",
    "\n",
    "Grayscale pie chart, labeled with components and percentages."
   ]
  },
  {
   "cell_type": "code",
   "execution_count": null,
   "metadata": {},
   "outputs": [],
   "source": [
    "fig,ax = plt.subplots(figsize=(wInches,hInches),dpi=dpi)\n",
    "\n",
    "# Pie chart, where the slices will be ordered and plotted counter-clockwise:\n",
    "\n",
    "ax.pie(bmFrac, labels=labels, labeldistance=1.12, autopct=None, pctdistance=1.075, \n",
    "       counterclock=False, startangle=90, textprops=props, colors=colors)\n",
    "\n",
    "ax.axis('equal')  # Equal aspect ratio ensures that pie is drawn as a circle.\n",
    "\n",
    "plt.plot()\n",
    "plt.savefig(plotFile,bbox_inches='tight')"
   ]
  }
 ],
 "metadata": {
  "kernelspec": {
   "display_name": "Python 3 (ipykernel)",
   "language": "python",
   "name": "python3"
  },
  "language_info": {
   "codemirror_mode": {
    "name": "ipython",
    "version": 3
   },
   "file_extension": ".py",
   "mimetype": "text/x-python",
   "name": "python",
   "nbconvert_exporter": "python",
   "pygments_lexer": "ipython3",
   "version": "3.9.7"
  }
 },
 "nbformat": 4,
 "nbformat_minor": 4
}
