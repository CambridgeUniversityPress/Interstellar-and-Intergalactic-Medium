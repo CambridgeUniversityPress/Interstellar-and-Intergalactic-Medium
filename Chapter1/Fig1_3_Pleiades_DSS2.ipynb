{
 "cells": [
  {
   "cell_type": "markdown",
   "metadata": {},
   "source": [
    "# Pleiades Star Cluster\n",
    "\n",
    "Figure 1.3 from Chapter 1 of *Interstellar and Intergalactic Medium* by Ryden & Pogge, 2021, \n",
    "Cambridge University Press.\n",
    "\n",
    "Image of the Pleiades from the ESO Online Digital Sky Survey website, using the DSS2 survey Red plate.\n",
    "DSS2 is the Palomar Observatory Sky Survey II (POSS2), observed using red (Kodak IIIa-F) plates with the\n",
    "48-inch Oschin Schmidt Telescope.\n",
    "\n",
    "Info:\n",
    " * Link: https://archive.eso.org/dss/dss\n",
    " * Center: RA=03:46.6 Dec=+24:06.2\n",
    " * FoV: 90x65-arcmin\n",
    "\n",
    "Exported as FITS, converted to 600dpi JPEG.\n",
    "\n",
    "The field of view corresponds to 3.6x2.6pc at the distance of the Pleiades (136 pc)"
   ]
  },
  {
   "cell_type": "code",
   "execution_count": null,
   "metadata": {},
   "outputs": [],
   "source": [
    "%matplotlib inline\n",
    "\n",
    "import matplotlib\n",
    "import matplotlib.pyplot as plt\n",
    "from matplotlib.ticker import MultipleLocator, LogLocator, NullFormatter\n",
    "\n",
    "import numpy as np\n",
    "from astropy.io import fits\n",
    "\n",
    "import warnings\n",
    "warnings.filterwarnings('ignore',category=UserWarning, append=True)"
   ]
  },
  {
   "cell_type": "markdown",
   "metadata": {},
   "source": [
    "## Standard Plot Format\n",
    "\n",
    "Setup the standard plotting format and make the plot. Fonts and resolution follow CUP style."
   ]
  },
  {
   "cell_type": "code",
   "execution_count": null,
   "metadata": {},
   "outputs": [],
   "source": [
    "figName = 'Fig1_3' \n",
    "\n",
    "# graphic aspect ratio = width/height\n",
    "\n",
    "aspect = 1.0\n",
    "\n",
    "# Text width in inches - don't change, this is defined by the print layout\n",
    "\n",
    "textWidth = 6.0 # inches\n",
    "\n",
    "# output format and resolution\n",
    "\n",
    "figFmt = 'jpg'\n",
    "dpi = 600\n",
    "\n",
    "# Graphic dimensions \n",
    "\n",
    "plotWidth = dpi*textWidth\n",
    "plotHeight = plotWidth/aspect\n",
    "axisFontSize = 14\n",
    "labelFontSize = 10\n",
    "lwidth = 0.5\n",
    "axisPad = 5\n",
    "wInches = textWidth \n",
    "hInches = wInches/aspect\n",
    "\n",
    "# Plot filename\n",
    "\n",
    "plotFile = f'{figName}.{figFmt}'\n",
    "\n",
    "# LaTeX is used throughout for markup of symbols, Times-Roman serif font\n",
    "\n",
    "plt.rc('text', usetex=True)\n",
    "plt.rc('font', **{'family':'serif','serif':['Times-Roman'],'weight':'bold','size':'16'})\n",
    "\n",
    "# Font and line weight defaults for axes\n",
    "\n",
    "matplotlib.rc('axes',linewidth=lwidth)\n",
    "matplotlib.rcParams.update({'font.size':axisFontSize})\n",
    "\n",
    "# axis and label padding\n",
    "\n",
    "plt.rcParams['xtick.major.pad'] = f'{axisPad}'\n",
    "plt.rcParams['ytick.major.pad'] = f'{axisPad}'\n",
    "plt.rcParams['axes.labelpad'] = f'{axisPad}'"
   ]
  },
  {
   "cell_type": "markdown",
   "metadata": {},
   "source": [
    "## Read in the FITS Image\n",
    "\n",
    "Read the FITS image, sniff the primary header, and get the min/max/median pixel values\n"
   ]
  },
  {
   "cell_type": "code",
   "execution_count": null,
   "metadata": {
    "scrolled": true
   },
   "outputs": [],
   "source": [
    "fitsFile = 'Pleiades_DSS2_Red.fits'\n",
    "\n",
    "# read the FITS file\n",
    "\n",
    "hdu = fits.open(fitsFile)\n",
    "\n",
    "imgData = hdu[0].data\n",
    "\n",
    "print(f'{fitsFile} info:')\n",
    "hdu.info()\n",
    "print(f'Data: min={np.min(imgData):.1f} max={np.max(imgData):.1f} median={np.median(imgData):.1f}')"
   ]
  },
  {
   "cell_type": "markdown",
   "metadata": {},
   "source": [
    "## Make the Image\n",
    "\n",
    "Display between 5000 and 12000 ADU, with an inverse grayscale color map, no axes or box.  This choice of \n",
    "min/max scaling brings up the nebulosity nicely.\n",
    "\n",
    "This is an example of how to convert an astronomical image in FITS format into a standard JPEG image."
   ]
  },
  {
   "cell_type": "code",
   "execution_count": null,
   "metadata": {},
   "outputs": [],
   "source": [
    "# Make the plot\n",
    "\n",
    "fig,ax = plt.subplots()\n",
    "fig.set_dpi(dpi)\n",
    "fig.set_size_inches(wInches,hInches,forward=True)\n",
    "\n",
    "plt.axis('off')\n",
    "\n",
    "plt.imshow(imgData,cmap='Greys',vmin=5000,vmax=12000)\n",
    "\n",
    "plt.plot()\n",
    "plt.savefig(plotFile,bbox_inches='tight')"
   ]
  }
 ],
 "metadata": {
  "kernelspec": {
   "display_name": "Python 3",
   "language": "python",
   "name": "python3"
  },
  "language_info": {
   "codemirror_mode": {
    "name": "ipython",
    "version": 3
   },
   "file_extension": ".py",
   "mimetype": "text/x-python",
   "name": "python",
   "nbconvert_exporter": "python",
   "pygments_lexer": "ipython3",
   "version": "3.8.5"
  }
 },
 "nbformat": 4,
 "nbformat_minor": 4
}
