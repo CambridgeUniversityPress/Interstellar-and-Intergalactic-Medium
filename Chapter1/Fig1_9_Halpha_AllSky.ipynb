{
 "cells": [
  {
   "cell_type": "markdown",
   "metadata": {},
   "source": [
    "# All-sky H$\\alpha$ Map\n",
    "\n",
    "Figure 1.9 from Chapter 1 of *Interstellar and Intergalactic Medium* by Ryden & Pogge, 2021, \n",
    "Cambridge University Press.\n",
    "\n",
    "Plots a Mollweide projection of the Finkbeiner\n",
    "[2003 ApJS, 146, 407](https://ui.adsabs.harvard.edu/abs/2003ApJS..146..407F/abstract) \n",
    "all-sky H$\\alpha$ emission line map.\n",
    "\n",
    "Finkbeiner 2003 assembled a full sky Halpha map using data from three surveys: the Wisconsin H-Alpha Mapper \n",
    "(WHAM), the Virginia Tech Spectral-Line Survey (VTSS), and the Southern H-Alpha Sky Survey Atlas (SHASSA). \n",
    "The units are surface brightness in Rayleighs.\n",
    "\n",
    "We are using the map in FITS HEALPix format from the NASA Goddard Space Flight Center's\n",
    "[Legacy Archive for Microwave Background Data Analysis (LAMBDA)](https://lambda.gsfc.nasa.gov).\n",
    " \n",
    " * [Composite all-sky H-alpha (Finkbeiner) map](https://lambda.gsfc.nasa.gov/product/foreground/fg_halpha_map.cfm).\n",
    "\n",
    "### Requirements\n",
    "\n",
    "This notebook requires that your computer has the [healpy package](https://healpy.readthedocs.io/en/latest/)\n",
    "installed."
   ]
  },
  {
   "cell_type": "code",
   "execution_count": null,
   "metadata": {},
   "outputs": [],
   "source": [
    "%matplotlib inline\n",
    "\n",
    "import matplotlib\n",
    "import matplotlib.pyplot as plt\n",
    "from matplotlib.ticker import MultipleLocator, LogLocator, NullFormatter\n",
    "\n",
    "import numpy as np\n",
    "import healpy as hp\n",
    "\n",
    "import warnings\n",
    "warnings.filterwarnings('ignore',category=UserWarning, append=True)"
   ]
  },
  {
   "cell_type": "markdown",
   "metadata": {},
   "source": [
    "## Standard Plot Format\n",
    "\n",
    "Setup the standard plotting format and make the plot. Fonts and resolution adopted follow CUP style."
   ]
  },
  {
   "cell_type": "code",
   "execution_count": null,
   "metadata": {},
   "outputs": [],
   "source": [
    "figName = 'Fig1_9' \n",
    "\n",
    "# graphic aspect ratio = width/height\n",
    "\n",
    "aspect = 4.0/3.0 # 4:3\n",
    "\n",
    "# Text width in inches - don't change, this is defined by the print layout\n",
    "\n",
    "textWidth = 6.0 # inches\n",
    "\n",
    "# output format and resolution\n",
    "\n",
    "figFmt = 'jpg'\n",
    "dpi = 600\n",
    "\n",
    "# Graphic dimensions \n",
    "\n",
    "plotWidth = dpi*textWidth\n",
    "plotHeight = plotWidth/aspect\n",
    "axisFontSize = 14\n",
    "labelFontSize = 10\n",
    "lwidth = 0.5\n",
    "axisPad = 5\n",
    "wInches = textWidth \n",
    "hInches = wInches/aspect\n",
    "\n",
    "# Plot filename\n",
    "\n",
    "plotFile = f'{figName}.{figFmt}'\n",
    "\n",
    "# LaTeX is used throughout for markup of symbols, Times-Roman serif font\n",
    "\n",
    "plt.rc('text', usetex=True)\n",
    "plt.rc('font', **{'family':'serif','serif':['Times-Roman'],'weight':'bold','size':'16'})\n",
    "\n",
    "# Font and line weight defaults for axes\n",
    "\n",
    "matplotlib.rc('axes',linewidth=lwidth)\n",
    "matplotlib.rcParams.update({'font.size':axisFontSize})\n",
    "\n",
    "# axis and label padding\n",
    "\n",
    "plt.rcParams['xtick.major.pad'] = f'{axisPad}'\n",
    "plt.rcParams['ytick.major.pad'] = f'{axisPad}'\n",
    "plt.rcParams['axes.labelpad'] = f'{axisPad}'"
   ]
  },
  {
   "cell_type": "markdown",
   "metadata": {},
   "source": [
    "## Finkbeiner H$\\alpha$ Map\n",
    "\n",
    "Plot emission in the surface brightness range 0.5 to 200 Rayleighs on a logarithmic scale with an inverse\n",
    "grayscale color map.\n",
    "\n",
    "Label the LMC, SMC, Cygnus Loop, and Orion."
   ]
  },
  {
   "cell_type": "code",
   "execution_count": null,
   "metadata": {},
   "outputs": [],
   "source": [
    "mapFile = 'Halpha_fwhm06_1024.fits'\n",
    "\n",
    "# read the HEALPix format map\n",
    "\n",
    "haMap = hp.read_map(mapFile)\n",
    "\n",
    "# Make the plot\n",
    "\n",
    "fig,ax = plt.subplots()\n",
    "fig.set_dpi(dpi)\n",
    "fig.set_size_inches(wInches,hInches,forward=True)\n",
    "\n",
    "plt.axes(ax)\n",
    "hp.mollview(haMap,min=0.5,max=200,norm='log',cmap='Greys',cbar=False,xsize=2048,\n",
    "            title=None,hold=True)\n",
    "\n",
    "hp.graticule(360,360,lw=0) # tricks into drawing a border but no meridians or parallels\n",
    "\n",
    "# Annotate LMC, SMC, Orion, and Cygnus Loop (CL)\n",
    "\n",
    "hp.projtext(280.46,-30.,'LMC',lonlat=True,ha='center',va='bottom',fontsize=10)\n",
    "hp.projtext(302.81,-48.,'SMC',lonlat=True,ha='center',va='top',fontsize=10)\n",
    "hp.projtext(209.0137,-21.38,'Orion',lonlat=True,color='white',ha='center',va='top',fontsize=8)\n",
    "hp.projtext(74,-12,'CL',lonlat=True,ha='center',va='top',fontsize=8)\n",
    "\n",
    "# show and make a hardcopy file\n",
    "\n",
    "plt.plot()\n",
    "plt.savefig(plotFile,bbox_inches='tight')"
   ]
  }
 ],
 "metadata": {
  "kernelspec": {
   "display_name": "Python 3 (ipykernel)",
   "language": "python",
   "name": "python3"
  },
  "language_info": {
   "codemirror_mode": {
    "name": "ipython",
    "version": 3
   },
   "file_extension": ".py",
   "mimetype": "text/x-python",
   "name": "python",
   "nbconvert_exporter": "python",
   "pygments_lexer": "ipython3",
   "version": "3.9.7"
  }
 },
 "nbformat": 4,
 "nbformat_minor": 4
}
